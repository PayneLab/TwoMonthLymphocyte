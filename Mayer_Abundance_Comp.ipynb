{
 "cells": [
  {
   "cell_type": "markdown",
   "metadata": {},
   "source": [
    "# Compare Abundance with Mayer\n",
    "In this notebook we separate Mayer's data into quartiles based on abundances. We then see the proportion of proteins we identify in each quartile."
   ]
  },
  {
   "cell_type": "code",
   "execution_count": 1,
   "metadata": {},
   "outputs": [],
   "source": [
    "import pandas as pd\n",
    "import requests\n",
    "import os.path\n",
    "import os\n",
    "from os import path\n",
    "import matplotlib.pyplot as plt\n",
    "from matplotlib_venn import venn2\n",
    "from matplotlib_venn import venn3"
   ]
  },
  {
   "cell_type": "markdown",
   "metadata": {},
   "source": [
    "### Access Data\n",
    "Our data is imported using the longitudinalCLL package and stored using <code>prot</code>."
   ]
  },
  {
   "cell_type": "code",
   "execution_count": 2,
   "metadata": {},
   "outputs": [],
   "source": [
    "import longitudinalCLL\n",
    "prot = longitudinalCLL.get_proteomic()\n",
    "prot.load_dataset(version='July_noMBR_FP', subjects = [])\n",
    "payne_df = prot.data_frame.reset_index()"
   ]
  },
  {
   "cell_type": "markdown",
   "metadata": {},
   "source": [
    "Dowload and import supplementary table 3, use after imputation sheets (Mayer et al., 2018) https://www.ncbi.nlm.nih.gov/pmc/articles/PMC5795392/bin/supp_RA117.000425_133399_0_supp_15943_4ybsvb.xlsx\n",
    "\n",
    "Since this paper differentiated between nuclear and cytoplasmic, we have to read in 2 files. We then combine the dataframes from the 2 files and extract the protein IDs."
   ]
  },
  {
   "cell_type": "code",
   "execution_count": 3,
   "metadata": {},
   "outputs": [],
   "source": [
    "mayer_file = \"data/133399_0_supp_15943_4ybsvb.xlsx\""
   ]
  },
  {
   "cell_type": "code",
   "execution_count": 4,
   "metadata": {},
   "outputs": [],
   "source": [
    "ne_sheet_name = \"NE_after imputation\"\n",
    "#The other is \"NE_before imputation\"\n",
    "m_ne_df = pd.read_excel(mayer_file, sheet_name = ne_sheet_name)"
   ]
  },
  {
   "cell_type": "code",
   "execution_count": 5,
   "metadata": {},
   "outputs": [],
   "source": [
    "mayer_cyt_sheet_name = \"CYT_after imputation\"\n",
    "m_cyt_df = pd.read_excel(mayer_file, sheet_name= mayer_cyt_sheet_name,\n",
    "                         skiprows = 1) #There is a header saying sup. table s3"
   ]
  },
  {
   "cell_type": "code",
   "execution_count": 6,
   "metadata": {},
   "outputs": [],
   "source": [
    "frames = [m_ne_df, m_cyt_df]\n",
    "m_t = pd.concat(frames)"
   ]
  },
  {
   "cell_type": "code",
   "execution_count": 7,
   "metadata": {},
   "outputs": [],
   "source": [
    "m_t.dropna(subset = ['Protein IDs'], inplace = True)"
   ]
  },
  {
   "cell_type": "code",
   "execution_count": 8,
   "metadata": {},
   "outputs": [],
   "source": [
    "m_tot = []"
   ]
  },
  {
   "cell_type": "code",
   "execution_count": 9,
   "metadata": {},
   "outputs": [],
   "source": [
    "for protein in m_t['Protein IDs']:\n",
    "    temp = protein.split(\";\")\n",
    "    m_tot.append(temp[0])"
   ]
  },
  {
   "cell_type": "code",
   "execution_count": 10,
   "metadata": {},
   "outputs": [],
   "source": [
    "m_tot = set(m_tot)"
   ]
  },
  {
   "cell_type": "markdown",
   "metadata": {},
   "source": [
    "### Analysis\n",
    "Here I select for the healthy subjects in the Mayer paper and average their abundances."
   ]
  },
  {
   "cell_type": "code",
   "execution_count": 11,
   "metadata": {},
   "outputs": [],
   "source": [
    "m_ne_df['avg'] = m_ne_df[['Bcells_H3_ne', 'Bcells_H2_ne', 'Bcells_H1_ne']].mean(axis=1)"
   ]
  },
  {
   "cell_type": "code",
   "execution_count": 12,
   "metadata": {},
   "outputs": [],
   "source": [
    "m_cyt_df['avg'] = m_cyt_df[['Bcells_H3_cyt', 'Bcells_H2_cyt', 'Bcells_H1_cyt']].mean(axis=1)"
   ]
  },
  {
   "cell_type": "code",
   "execution_count": 13,
   "metadata": {},
   "outputs": [],
   "source": [
    "m_ne_df = m_ne_df[['Protein IDs', 'avg']]\n",
    "m_cyt_df = m_cyt_df[['Protein IDs', 'avg']]"
   ]
  },
  {
   "cell_type": "code",
   "execution_count": 14,
   "metadata": {},
   "outputs": [
    {
     "name": "stdout",
     "output_type": "stream",
     "text": [
      "        Protein IDs        avg\n",
      "0            A0AV96  20.734067\n",
      "1            A0AVT1  28.003433\n",
      "2            A0FGR8  24.974000\n",
      "3            A0JLT2  17.599333\n",
      "4            A0JNW5  19.484333\n",
      "...             ...        ...\n",
      "6940         Q9Y6X5  22.944633\n",
      "6941  Q9Y6X8;Q9H4I2  26.054300\n",
      "6942         Q9Y6X9  23.374467\n",
      "6943         Q9Y6Y0  20.895700\n",
      "6944         Q9Y6Y8  26.015267\n",
      "\n",
      "[6945 rows x 2 columns]\n"
     ]
    }
   ],
   "source": [
    "df = pd.concat([m_ne_df, m_cyt_df]).groupby(['Protein IDs'], as_index=False)['avg'].max()\n",
    "print (df)"
   ]
  },
  {
   "cell_type": "markdown",
   "metadata": {},
   "source": [
    "I now sort the dataframe by abundance so I can split the data into quartiles based on abundance."
   ]
  },
  {
   "cell_type": "code",
   "execution_count": 15,
   "metadata": {},
   "outputs": [
    {
     "data": {
      "text/html": [
       "<div>\n",
       "<style scoped>\n",
       "    .dataframe tbody tr th:only-of-type {\n",
       "        vertical-align: middle;\n",
       "    }\n",
       "\n",
       "    .dataframe tbody tr th {\n",
       "        vertical-align: top;\n",
       "    }\n",
       "\n",
       "    .dataframe thead th {\n",
       "        text-align: right;\n",
       "    }\n",
       "</style>\n",
       "<table border=\"1\" class=\"dataframe\">\n",
       "  <thead>\n",
       "    <tr style=\"text-align: right;\">\n",
       "      <th></th>\n",
       "      <th>index</th>\n",
       "      <th>Protein IDs</th>\n",
       "      <th>avg</th>\n",
       "    </tr>\n",
       "  </thead>\n",
       "  <tbody>\n",
       "    <tr>\n",
       "      <th>0</th>\n",
       "      <td>1324</td>\n",
       "      <td>P16402</td>\n",
       "      <td>36.023900</td>\n",
       "    </tr>\n",
       "    <tr>\n",
       "      <th>1</th>\n",
       "      <td>2282</td>\n",
       "      <td>P60709</td>\n",
       "      <td>35.957533</td>\n",
       "    </tr>\n",
       "    <tr>\n",
       "      <th>2</th>\n",
       "      <td>2382</td>\n",
       "      <td>P62805</td>\n",
       "      <td>35.945500</td>\n",
       "    </tr>\n",
       "    <tr>\n",
       "      <th>3</th>\n",
       "      <td>5245</td>\n",
       "      <td>Q99879;Q99877;Q93079;Q5QNW6;P58876;Q99880</td>\n",
       "      <td>35.233700</td>\n",
       "    </tr>\n",
       "    <tr>\n",
       "      <th>4</th>\n",
       "      <td>2504</td>\n",
       "      <td>P84243;Q16695;Q6NXT2</td>\n",
       "      <td>34.774700</td>\n",
       "    </tr>\n",
       "    <tr>\n",
       "      <th>...</th>\n",
       "      <td>...</td>\n",
       "      <td>...</td>\n",
       "      <td>...</td>\n",
       "    </tr>\n",
       "    <tr>\n",
       "      <th>6940</th>\n",
       "      <td>3994</td>\n",
       "      <td>Q86WW8</td>\n",
       "      <td>16.384300</td>\n",
       "    </tr>\n",
       "    <tr>\n",
       "      <th>6941</th>\n",
       "      <td>3559</td>\n",
       "      <td>Q68CR1</td>\n",
       "      <td>16.304100</td>\n",
       "    </tr>\n",
       "    <tr>\n",
       "      <th>6942</th>\n",
       "      <td>6882</td>\n",
       "      <td>Q9Y617</td>\n",
       "      <td>16.003400</td>\n",
       "    </tr>\n",
       "    <tr>\n",
       "      <th>6943</th>\n",
       "      <td>3235</td>\n",
       "      <td>Q16658</td>\n",
       "      <td>15.744533</td>\n",
       "    </tr>\n",
       "    <tr>\n",
       "      <th>6944</th>\n",
       "      <td>1189</td>\n",
       "      <td>P11388</td>\n",
       "      <td>15.742500</td>\n",
       "    </tr>\n",
       "  </tbody>\n",
       "</table>\n",
       "<p>6945 rows × 3 columns</p>\n",
       "</div>"
      ],
      "text/plain": [
       "      index                                Protein IDs        avg\n",
       "0      1324                                     P16402  36.023900\n",
       "1      2282                                     P60709  35.957533\n",
       "2      2382                                     P62805  35.945500\n",
       "3      5245  Q99879;Q99877;Q93079;Q5QNW6;P58876;Q99880  35.233700\n",
       "4      2504                       P84243;Q16695;Q6NXT2  34.774700\n",
       "...     ...                                        ...        ...\n",
       "6940   3994                                     Q86WW8  16.384300\n",
       "6941   3559                                     Q68CR1  16.304100\n",
       "6942   6882                                     Q9Y617  16.003400\n",
       "6943   3235                                     Q16658  15.744533\n",
       "6944   1189                                     P11388  15.742500\n",
       "\n",
       "[6945 rows x 3 columns]"
      ]
     },
     "execution_count": 15,
     "metadata": {},
     "output_type": "execute_result"
    }
   ],
   "source": [
    "df = df.sort_values(by=['avg'], ascending=False)\n",
    "df.reset_index()"
   ]
  },
  {
   "cell_type": "markdown",
   "metadata": {},
   "source": [
    "Here I figure out how many proteins should be in each quartile and then I create a dataframe with each quartile of data."
   ]
  },
  {
   "cell_type": "code",
   "execution_count": 16,
   "metadata": {},
   "outputs": [
    {
     "data": {
      "text/plain": [
       "1736.25"
      ]
     },
     "execution_count": 16,
     "metadata": {},
     "output_type": "execute_result"
    }
   ],
   "source": [
    "increment = df.shape[0]/4\n",
    "increment"
   ]
  },
  {
   "cell_type": "code",
   "execution_count": 17,
   "metadata": {},
   "outputs": [],
   "source": [
    "q1 = increment\n",
    "q2 = q1 + increment\n",
    "q3 = q2 + increment"
   ]
  },
  {
   "cell_type": "code",
   "execution_count": 18,
   "metadata": {},
   "outputs": [
    {
     "data": {
      "text/html": [
       "<div>\n",
       "<style scoped>\n",
       "    .dataframe tbody tr th:only-of-type {\n",
       "        vertical-align: middle;\n",
       "    }\n",
       "\n",
       "    .dataframe tbody tr th {\n",
       "        vertical-align: top;\n",
       "    }\n",
       "\n",
       "    .dataframe thead th {\n",
       "        text-align: right;\n",
       "    }\n",
       "</style>\n",
       "<table border=\"1\" class=\"dataframe\">\n",
       "  <thead>\n",
       "    <tr style=\"text-align: right;\">\n",
       "      <th></th>\n",
       "      <th>Protein IDs</th>\n",
       "      <th>avg</th>\n",
       "    </tr>\n",
       "  </thead>\n",
       "  <tbody>\n",
       "    <tr>\n",
       "      <th>1324</th>\n",
       "      <td>P16402</td>\n",
       "      <td>36.023900</td>\n",
       "    </tr>\n",
       "    <tr>\n",
       "      <th>2282</th>\n",
       "      <td>P60709</td>\n",
       "      <td>35.957533</td>\n",
       "    </tr>\n",
       "    <tr>\n",
       "      <th>2382</th>\n",
       "      <td>P62805</td>\n",
       "      <td>35.945500</td>\n",
       "    </tr>\n",
       "    <tr>\n",
       "      <th>5245</th>\n",
       "      <td>Q99879;Q99877;Q93079;Q5QNW6;P58876;Q99880</td>\n",
       "      <td>35.233700</td>\n",
       "    </tr>\n",
       "    <tr>\n",
       "      <th>2504</th>\n",
       "      <td>P84243;Q16695;Q6NXT2</td>\n",
       "      <td>34.774700</td>\n",
       "    </tr>\n",
       "    <tr>\n",
       "      <th>...</th>\n",
       "      <td>...</td>\n",
       "      <td>...</td>\n",
       "    </tr>\n",
       "    <tr>\n",
       "      <th>1456</th>\n",
       "      <td>P22033</td>\n",
       "      <td>25.756000</td>\n",
       "    </tr>\n",
       "    <tr>\n",
       "      <th>2951</th>\n",
       "      <td>Q14156;Q9Y2G0</td>\n",
       "      <td>25.754967</td>\n",
       "    </tr>\n",
       "    <tr>\n",
       "      <th>366</th>\n",
       "      <td>O43681</td>\n",
       "      <td>25.754700</td>\n",
       "    </tr>\n",
       "    <tr>\n",
       "      <th>73</th>\n",
       "      <td>O00194</td>\n",
       "      <td>25.753567</td>\n",
       "    </tr>\n",
       "    <tr>\n",
       "      <th>2637</th>\n",
       "      <td>Q05D32</td>\n",
       "      <td>25.752133</td>\n",
       "    </tr>\n",
       "  </tbody>\n",
       "</table>\n",
       "<p>1736 rows × 2 columns</p>\n",
       "</div>"
      ],
      "text/plain": [
       "                                    Protein IDs        avg\n",
       "1324                                     P16402  36.023900\n",
       "2282                                     P60709  35.957533\n",
       "2382                                     P62805  35.945500\n",
       "5245  Q99879;Q99877;Q93079;Q5QNW6;P58876;Q99880  35.233700\n",
       "2504                       P84243;Q16695;Q6NXT2  34.774700\n",
       "...                                         ...        ...\n",
       "1456                                     P22033  25.756000\n",
       "2951                              Q14156;Q9Y2G0  25.754967\n",
       "366                                      O43681  25.754700\n",
       "73                                       O00194  25.753567\n",
       "2637                                     Q05D32  25.752133\n",
       "\n",
       "[1736 rows x 2 columns]"
      ]
     },
     "execution_count": 18,
     "metadata": {},
     "output_type": "execute_result"
    }
   ],
   "source": [
    "df_1 = df.iloc[:round(q1), :]\n",
    "df_1"
   ]
  },
  {
   "cell_type": "code",
   "execution_count": 19,
   "metadata": {},
   "outputs": [
    {
     "data": {
      "text/html": [
       "<div>\n",
       "<style scoped>\n",
       "    .dataframe tbody tr th:only-of-type {\n",
       "        vertical-align: middle;\n",
       "    }\n",
       "\n",
       "    .dataframe tbody tr th {\n",
       "        vertical-align: top;\n",
       "    }\n",
       "\n",
       "    .dataframe thead th {\n",
       "        text-align: right;\n",
       "    }\n",
       "</style>\n",
       "<table border=\"1\" class=\"dataframe\">\n",
       "  <thead>\n",
       "    <tr style=\"text-align: right;\">\n",
       "      <th></th>\n",
       "      <th>Protein IDs</th>\n",
       "      <th>avg</th>\n",
       "    </tr>\n",
       "  </thead>\n",
       "  <tbody>\n",
       "    <tr>\n",
       "      <th>5970</th>\n",
       "      <td>Q9NR45</td>\n",
       "      <td>25.751400</td>\n",
       "    </tr>\n",
       "    <tr>\n",
       "      <th>3234</th>\n",
       "      <td>Q16656</td>\n",
       "      <td>25.749633</td>\n",
       "    </tr>\n",
       "    <tr>\n",
       "      <th>1128</th>\n",
       "      <td>P09884</td>\n",
       "      <td>25.745800</td>\n",
       "    </tr>\n",
       "    <tr>\n",
       "      <th>4996</th>\n",
       "      <td>Q96JY6</td>\n",
       "      <td>25.743633</td>\n",
       "    </tr>\n",
       "    <tr>\n",
       "      <th>1905</th>\n",
       "      <td>P46527</td>\n",
       "      <td>25.742600</td>\n",
       "    </tr>\n",
       "    <tr>\n",
       "      <th>...</th>\n",
       "      <td>...</td>\n",
       "      <td>...</td>\n",
       "    </tr>\n",
       "    <tr>\n",
       "      <th>1731</th>\n",
       "      <td>P35241</td>\n",
       "      <td>23.301400</td>\n",
       "    </tr>\n",
       "    <tr>\n",
       "      <th>6407</th>\n",
       "      <td>Q9UHW5</td>\n",
       "      <td>23.300400</td>\n",
       "    </tr>\n",
       "    <tr>\n",
       "      <th>6395</th>\n",
       "      <td>Q9UHJ6</td>\n",
       "      <td>23.298600</td>\n",
       "    </tr>\n",
       "    <tr>\n",
       "      <th>4625</th>\n",
       "      <td>Q92575</td>\n",
       "      <td>23.297800</td>\n",
       "    </tr>\n",
       "    <tr>\n",
       "      <th>5136</th>\n",
       "      <td>Q96S97</td>\n",
       "      <td>23.295433</td>\n",
       "    </tr>\n",
       "  </tbody>\n",
       "</table>\n",
       "<p>1736 rows × 2 columns</p>\n",
       "</div>"
      ],
      "text/plain": [
       "     Protein IDs        avg\n",
       "5970      Q9NR45  25.751400\n",
       "3234      Q16656  25.749633\n",
       "1128      P09884  25.745800\n",
       "4996      Q96JY6  25.743633\n",
       "1905      P46527  25.742600\n",
       "...          ...        ...\n",
       "1731      P35241  23.301400\n",
       "6407      Q9UHW5  23.300400\n",
       "6395      Q9UHJ6  23.298600\n",
       "4625      Q92575  23.297800\n",
       "5136      Q96S97  23.295433\n",
       "\n",
       "[1736 rows x 2 columns]"
      ]
     },
     "execution_count": 19,
     "metadata": {},
     "output_type": "execute_result"
    }
   ],
   "source": [
    "df_2 = df.iloc[round(q1):round(q2), :]\n",
    "df_2"
   ]
  },
  {
   "cell_type": "code",
   "execution_count": 20,
   "metadata": {},
   "outputs": [
    {
     "data": {
      "text/html": [
       "<div>\n",
       "<style scoped>\n",
       "    .dataframe tbody tr th:only-of-type {\n",
       "        vertical-align: middle;\n",
       "    }\n",
       "\n",
       "    .dataframe tbody tr th {\n",
       "        vertical-align: top;\n",
       "    }\n",
       "\n",
       "    .dataframe thead th {\n",
       "        text-align: right;\n",
       "    }\n",
       "</style>\n",
       "<table border=\"1\" class=\"dataframe\">\n",
       "  <thead>\n",
       "    <tr style=\"text-align: right;\">\n",
       "      <th></th>\n",
       "      <th>Protein IDs</th>\n",
       "      <th>avg</th>\n",
       "    </tr>\n",
       "  </thead>\n",
       "  <tbody>\n",
       "    <tr>\n",
       "      <th>3068</th>\n",
       "      <td>Q15025</td>\n",
       "      <td>23.295367</td>\n",
       "    </tr>\n",
       "    <tr>\n",
       "      <th>2859</th>\n",
       "      <td>Q13501</td>\n",
       "      <td>23.294767</td>\n",
       "    </tr>\n",
       "    <tr>\n",
       "      <th>108</th>\n",
       "      <td>O00443</td>\n",
       "      <td>23.292133</td>\n",
       "    </tr>\n",
       "    <tr>\n",
       "      <th>6236</th>\n",
       "      <td>Q9NZW5;REV__Q8N884</td>\n",
       "      <td>23.288933</td>\n",
       "    </tr>\n",
       "    <tr>\n",
       "      <th>3429</th>\n",
       "      <td>Q5RI15</td>\n",
       "      <td>23.281000</td>\n",
       "    </tr>\n",
       "    <tr>\n",
       "      <th>...</th>\n",
       "      <td>...</td>\n",
       "      <td>...</td>\n",
       "    </tr>\n",
       "    <tr>\n",
       "      <th>5270</th>\n",
       "      <td>Q9BQ70</td>\n",
       "      <td>20.980400</td>\n",
       "    </tr>\n",
       "    <tr>\n",
       "      <th>6015</th>\n",
       "      <td>Q9NS87</td>\n",
       "      <td>20.979333</td>\n",
       "    </tr>\n",
       "    <tr>\n",
       "      <th>1345</th>\n",
       "      <td>P17252;P05129</td>\n",
       "      <td>20.977667</td>\n",
       "    </tr>\n",
       "    <tr>\n",
       "      <th>2815</th>\n",
       "      <td>Q13291</td>\n",
       "      <td>20.977233</td>\n",
       "    </tr>\n",
       "    <tr>\n",
       "      <th>937</th>\n",
       "      <td>P04049</td>\n",
       "      <td>20.976333</td>\n",
       "    </tr>\n",
       "  </tbody>\n",
       "</table>\n",
       "<p>1737 rows × 2 columns</p>\n",
       "</div>"
      ],
      "text/plain": [
       "             Protein IDs        avg\n",
       "3068              Q15025  23.295367\n",
       "2859              Q13501  23.294767\n",
       "108               O00443  23.292133\n",
       "6236  Q9NZW5;REV__Q8N884  23.288933\n",
       "3429              Q5RI15  23.281000\n",
       "...                  ...        ...\n",
       "5270              Q9BQ70  20.980400\n",
       "6015              Q9NS87  20.979333\n",
       "1345       P17252;P05129  20.977667\n",
       "2815              Q13291  20.977233\n",
       "937               P04049  20.976333\n",
       "\n",
       "[1737 rows x 2 columns]"
      ]
     },
     "execution_count": 20,
     "metadata": {},
     "output_type": "execute_result"
    }
   ],
   "source": [
    "df_3 = df.iloc[round(q2):round(q3), :]\n",
    "df_3"
   ]
  },
  {
   "cell_type": "code",
   "execution_count": 21,
   "metadata": {},
   "outputs": [
    {
     "data": {
      "text/html": [
       "<div>\n",
       "<style scoped>\n",
       "    .dataframe tbody tr th:only-of-type {\n",
       "        vertical-align: middle;\n",
       "    }\n",
       "\n",
       "    .dataframe tbody tr th {\n",
       "        vertical-align: top;\n",
       "    }\n",
       "\n",
       "    .dataframe thead th {\n",
       "        text-align: right;\n",
       "    }\n",
       "</style>\n",
       "<table border=\"1\" class=\"dataframe\">\n",
       "  <thead>\n",
       "    <tr style=\"text-align: right;\">\n",
       "      <th></th>\n",
       "      <th>Protein IDs</th>\n",
       "      <th>avg</th>\n",
       "    </tr>\n",
       "  </thead>\n",
       "  <tbody>\n",
       "    <tr>\n",
       "      <th>2253</th>\n",
       "      <td>P57076</td>\n",
       "      <td>20.975567</td>\n",
       "    </tr>\n",
       "    <tr>\n",
       "      <th>6649</th>\n",
       "      <td>Q9Y291</td>\n",
       "      <td>20.969867</td>\n",
       "    </tr>\n",
       "    <tr>\n",
       "      <th>874</th>\n",
       "      <td>P01344</td>\n",
       "      <td>20.969267</td>\n",
       "    </tr>\n",
       "    <tr>\n",
       "      <th>6072</th>\n",
       "      <td>Q9NVA1</td>\n",
       "      <td>20.968800</td>\n",
       "    </tr>\n",
       "    <tr>\n",
       "      <th>2936</th>\n",
       "      <td>Q14112</td>\n",
       "      <td>20.967500</td>\n",
       "    </tr>\n",
       "    <tr>\n",
       "      <th>...</th>\n",
       "      <td>...</td>\n",
       "      <td>...</td>\n",
       "    </tr>\n",
       "    <tr>\n",
       "      <th>3994</th>\n",
       "      <td>Q86WW8</td>\n",
       "      <td>16.384300</td>\n",
       "    </tr>\n",
       "    <tr>\n",
       "      <th>3559</th>\n",
       "      <td>Q68CR1</td>\n",
       "      <td>16.304100</td>\n",
       "    </tr>\n",
       "    <tr>\n",
       "      <th>6882</th>\n",
       "      <td>Q9Y617</td>\n",
       "      <td>16.003400</td>\n",
       "    </tr>\n",
       "    <tr>\n",
       "      <th>3235</th>\n",
       "      <td>Q16658</td>\n",
       "      <td>15.744533</td>\n",
       "    </tr>\n",
       "    <tr>\n",
       "      <th>1189</th>\n",
       "      <td>P11388</td>\n",
       "      <td>15.742500</td>\n",
       "    </tr>\n",
       "  </tbody>\n",
       "</table>\n",
       "<p>1736 rows × 2 columns</p>\n",
       "</div>"
      ],
      "text/plain": [
       "     Protein IDs        avg\n",
       "2253      P57076  20.975567\n",
       "6649      Q9Y291  20.969867\n",
       "874       P01344  20.969267\n",
       "6072      Q9NVA1  20.968800\n",
       "2936      Q14112  20.967500\n",
       "...          ...        ...\n",
       "3994      Q86WW8  16.384300\n",
       "3559      Q68CR1  16.304100\n",
       "6882      Q9Y617  16.003400\n",
       "3235      Q16658  15.744533\n",
       "1189      P11388  15.742500\n",
       "\n",
       "[1736 rows x 2 columns]"
      ]
     },
     "execution_count": 21,
     "metadata": {},
     "output_type": "execute_result"
    }
   ],
   "source": [
    "df_4 = df.iloc[round(q3):, :]\n",
    "df_4"
   ]
  },
  {
   "cell_type": "markdown",
   "metadata": {},
   "source": [
    "For each quartile I parse the protein IDs so they are in the same format as our data. I then find the intersection between their data and ours. "
   ]
  },
  {
   "cell_type": "code",
   "execution_count": 22,
   "metadata": {},
   "outputs": [
    {
     "data": {
      "text/plain": [
       "1368"
      ]
     },
     "execution_count": 22,
     "metadata": {},
     "output_type": "execute_result"
    }
   ],
   "source": [
    "m_1 = []\n",
    "for protein in df_1['Protein IDs'] :\n",
    "    temp = protein.split(\";\")\n",
    "    m_1.append(temp[0])\n",
    "len(set(m_1).intersection(payne_df['Protein ID']))"
   ]
  },
  {
   "cell_type": "code",
   "execution_count": 23,
   "metadata": {},
   "outputs": [],
   "source": [
    "ratio1 = len(set(m_1).intersection(payne_df['Protein ID']))/df_1.shape[0]"
   ]
  },
  {
   "cell_type": "code",
   "execution_count": 24,
   "metadata": {},
   "outputs": [
    {
     "data": {
      "text/plain": [
       "518"
      ]
     },
     "execution_count": 24,
     "metadata": {},
     "output_type": "execute_result"
    }
   ],
   "source": [
    "m_2 = []\n",
    "for protein in df_2['Protein IDs'] :\n",
    "    temp = protein.split(\";\")\n",
    "    m_2.append(temp[0])\n",
    "len(set(m_2).intersection(payne_df['Protein ID']))"
   ]
  },
  {
   "cell_type": "code",
   "execution_count": 25,
   "metadata": {},
   "outputs": [],
   "source": [
    "ratio2 = len(set(m_2).intersection(payne_df['Protein ID']))/df_2.shape[0]"
   ]
  },
  {
   "cell_type": "code",
   "execution_count": 26,
   "metadata": {},
   "outputs": [
    {
     "data": {
      "text/plain": [
       "181"
      ]
     },
     "execution_count": 26,
     "metadata": {},
     "output_type": "execute_result"
    }
   ],
   "source": [
    "m_3 = []\n",
    "for protein in df_3['Protein IDs'] :\n",
    "    temp = protein.split(\";\")\n",
    "    m_3.append(temp[0])\n",
    "len(set(m_3).intersection(payne_df['Protein ID']))"
   ]
  },
  {
   "cell_type": "code",
   "execution_count": 27,
   "metadata": {},
   "outputs": [],
   "source": [
    "ratio3 = len(set(m_3).intersection(payne_df['Protein ID']))/df_3.shape[0]"
   ]
  },
  {
   "cell_type": "code",
   "execution_count": 28,
   "metadata": {},
   "outputs": [
    {
     "data": {
      "text/plain": [
       "103"
      ]
     },
     "execution_count": 28,
     "metadata": {},
     "output_type": "execute_result"
    }
   ],
   "source": [
    "m_4 = []\n",
    "for protein in df_4['Protein IDs'] :\n",
    "    temp = protein.split(\";\")\n",
    "    m_4.append(temp[0])\n",
    "len(set(m_4).intersection(payne_df['Protein ID']))"
   ]
  },
  {
   "cell_type": "code",
   "execution_count": 29,
   "metadata": {},
   "outputs": [],
   "source": [
    "ratio4 = len(set(m_4).intersection(payne_df['Protein ID']))/df_4.shape[0]"
   ]
  },
  {
   "cell_type": "markdown",
   "metadata": {},
   "source": [
    "Finally, I create a table for the data."
   ]
  },
  {
   "cell_type": "code",
   "execution_count": 30,
   "metadata": {},
   "outputs": [
    {
     "name": "stdout",
     "output_type": "stream",
     "text": [
      "+---------------------+--------------------+\n",
      "| Ratio               | Quartile           |\n",
      "+=====================+====================+\n",
      "| quartile 1          | 0.7880184331797235 |\n",
      "+---------------------+--------------------+\n",
      "| 0.29838709677419356 | quartile 2         |\n",
      "+---------------------+--------------------+\n",
      "| 0.10420264824409903 | quartile 3         |\n",
      "+---------------------+--------------------+\n",
      "| 0.05933179723502304 | quartile 4         |\n",
      "+---------------------+--------------------+\n"
     ]
    }
   ],
   "source": [
    "from tabulate import tabulate\n",
    "\n",
    "table_data = [{'quartile 1', ratio1},\n",
    "              {'quartile 2', ratio2},\n",
    "              {'quartile 3', ratio3},\n",
    "              {'quartile 4', ratio4}]\n",
    "head = ['Ratio','Quartile']\n",
    "print(tabulate(table_data, headers = head, tablefmt='grid'))"
   ]
  }
 ],
 "metadata": {
  "kernelspec": {
   "display_name": "Python 3",
   "language": "python",
   "name": "python3"
  },
  "language_info": {
   "codemirror_mode": {
    "name": "ipython",
    "version": 3
   },
   "file_extension": ".py",
   "mimetype": "text/x-python",
   "name": "python",
   "nbconvert_exporter": "python",
   "pygments_lexer": "ipython3",
   "version": "3.8.3"
  }
 },
 "nbformat": 4,
 "nbformat_minor": 4
}
