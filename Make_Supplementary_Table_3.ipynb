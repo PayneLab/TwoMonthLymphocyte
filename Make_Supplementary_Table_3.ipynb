{
 "cells": [
  {
   "cell_type": "markdown",
   "metadata": {},
   "source": [
    "# Mayer and Johnston Pathway Analysis\n",
    "\n",
    "In this notebook we analyze the proteins in the Johnston and Mayer papers. First, we extract their total and differential proteins. We also sort the differential proteins into those that are upregulated and those that are downregulated. After we extract their data, we do a pathway enrichment on the differential proteins."
   ]
  },
  {
   "cell_type": "code",
   "execution_count": 1,
   "metadata": {},
   "outputs": [],
   "source": [
    "johnston_file = \"data/134638_0_supp_38937_p0y7zb.xlsx\"\n",
    "mayer_file = \"data/133399_0_supp_15943_4ybsvb.xlsx\""
   ]
  },
  {
   "cell_type": "code",
   "execution_count": 2,
   "metadata": {},
   "outputs": [],
   "source": [
    "import pandas as pd\n",
    "import requests\n",
    "import os.path\n",
    "import os\n",
    "from os import path\n",
    "from numpy import log10\n",
    "from gprofiler import GProfiler\n",
    "import longitudinalCLL\n",
    "import seaborn as sns\n",
    "from scipy import stats\n",
    "import matplotlib.ticker as ticker\n",
    "import matplotlib.pyplot as plt\n",
    "from matplotlib_venn import venn2\n",
    "from matplotlib_venn import venn3"
   ]
  },
  {
   "cell_type": "markdown",
   "metadata": {},
   "source": [
    "## Mayer Paper\n",
    "\n",
    "Dowload and import supplementary table 3, use after imputation sheets (Mayer et al., 2018)\n",
    "https://www.ncbi.nlm.nih.gov/pmc/articles/PMC5795392/bin/supp_RA117.000425_133399_0_supp_15943_4ybsvb.xlsx\n",
    "\n",
    "I parse the dataframe and extract all the proteins labeled as significantly upregulated (+ in t-test difference) and downregulated (- in t-test difference).\n",
    "The upregulated and downregulated will be used to generate a functional pathay analysis.\n",
    "In the paper they found 440 upregulated and 427 downregulated, however, these numbers double-count some proteins. This analysis finds 425 upregulated and 371 downregulated, none are double-counted in this analysis. There are 6,945 total proteins identified in the paper."
   ]
  },
  {
   "cell_type": "markdown",
   "metadata": {},
   "source": [
    "Since this paper differentiated between nuclear and cytoplasmic, we have to read in 2 files. First, we pull the nuclear file and extract the significant, upregulated, and downregulated proteins."
   ]
  },
  {
   "cell_type": "code",
   "execution_count": 3,
   "metadata": {},
   "outputs": [],
   "source": [
    "ne_sheet_name = \"NE_after imputation\"\n",
    "#The other is \"NE_before imputation\"\n",
    "m_ne_df = pd.read_excel(mayer_file, sheet_name = ne_sheet_name)"
   ]
  },
  {
   "cell_type": "code",
   "execution_count": 4,
   "metadata": {},
   "outputs": [],
   "source": [
    "m_sig_ne = m_ne_df.loc[m_ne_df['Student\\'s t-test Significant CLL vs elderly Bcells'] == '+']\n",
    "m_up_ne = m_sig_ne.loc[m_sig_ne['Student\\'s t-test Difference  CLL vs  elderly B cells'] > 0]\n",
    "m_down_ne = m_sig_ne.loc[m_sig_ne['Student\\'s t-test Difference  CLL vs  elderly B cells'] < 0]"
   ]
  },
  {
   "cell_type": "markdown",
   "metadata": {},
   "source": [
    "Next, we pull the cytoplasmic file and extract the significant, upregulated, and downregulated proteins."
   ]
  },
  {
   "cell_type": "code",
   "execution_count": 5,
   "metadata": {},
   "outputs": [],
   "source": [
    "mayer_cyt_sheet_name = \"CYT_after imputation\"\n",
    "m_cyt_df = pd.read_excel(mayer_file, sheet_name= mayer_cyt_sheet_name,\n",
    "                         skiprows = 1) #There is a header saying sup. table s3"
   ]
  },
  {
   "cell_type": "code",
   "execution_count": 6,
   "metadata": {},
   "outputs": [],
   "source": [
    "m_sig_cyt = m_cyt_df.loc[m_cyt_df['Student\\'s t-test Significant CLL vs elderly B cells'] == '+']\n",
    "m_up_cyt = m_sig_cyt.loc[m_sig_cyt['Student\\'s t-test Difference  CLL vs  elderly B cells'] > 0]\n",
    "m_down_cyt = m_sig_cyt.loc[m_sig_cyt['Student\\'s t-test Difference  CLL vs  elderly B cells'] < 0]"
   ]
  },
  {
   "cell_type": "code",
   "execution_count": 7,
   "metadata": {},
   "outputs": [],
   "source": [
    "m_upreg = []"
   ]
  },
  {
   "cell_type": "code",
   "execution_count": 8,
   "metadata": {},
   "outputs": [],
   "source": [
    "up_frames = [m_up_ne, m_up_cyt]\n",
    "m_u = pd.concat(up_frames)"
   ]
  },
  {
   "cell_type": "code",
   "execution_count": 9,
   "metadata": {},
   "outputs": [],
   "source": [
    "for protein in m_u['Protein IDs'] :\n",
    "    temp = protein.split(\";\")\n",
    "    m_upreg.append(temp[0])"
   ]
  },
  {
   "cell_type": "code",
   "execution_count": 10,
   "metadata": {},
   "outputs": [
    {
     "name": "stdout",
     "output_type": "stream",
     "text": [
      "425\n"
     ]
    }
   ],
   "source": [
    "print(len(set(m_upreg)))\n",
    "m_upreg = set(m_upreg)"
   ]
  },
  {
   "cell_type": "code",
   "execution_count": 11,
   "metadata": {},
   "outputs": [],
   "source": [
    "m_downreg = []"
   ]
  },
  {
   "cell_type": "code",
   "execution_count": 12,
   "metadata": {},
   "outputs": [],
   "source": [
    "down_frames = [m_down_ne, m_down_cyt]\n",
    "m_d = pd.concat(down_frames)"
   ]
  },
  {
   "cell_type": "code",
   "execution_count": 13,
   "metadata": {},
   "outputs": [],
   "source": [
    "for protein in m_d['Protein IDs'] :\n",
    "    temp = protein.split(\";\")\n",
    "    m_downreg.append(temp[0])"
   ]
  },
  {
   "cell_type": "code",
   "execution_count": 14,
   "metadata": {},
   "outputs": [
    {
     "name": "stdout",
     "output_type": "stream",
     "text": [
      "371\n"
     ]
    }
   ],
   "source": [
    "print(len(set(m_downreg)))\n",
    "m_downreg = set(m_downreg)"
   ]
  },
  {
   "cell_type": "markdown",
   "metadata": {},
   "source": [
    "## Johnston Paper\n",
    "Download and import supplementary table 2 (Johnston et al., 2018)\n",
    "https://www.ncbi.nlm.nih.gov/pmc/articles/PMC5880099/bin/supp_RA117.000539_134638_0_supp_38937_p0y7zb.xlsx\n",
    "\n",
    "I parse the dataframe and extract all the proteins labeled as significantly upregulated (>0.3) and downregulated (<-0.3).\n",
    "The upregulated and downregulated will be used to generate a functional pathay analysis.\n",
    "In the paper they found 544 upregulated and 592 downregulated. This analysis finds 545 upregulated and 592 downregulated."
   ]
  },
  {
   "cell_type": "code",
   "execution_count": 15,
   "metadata": {},
   "outputs": [],
   "source": [
    "j_sheet_name = \"CLL proteome\"\n",
    "j_df = pd.read_excel(johnston_file, sheet_name = j_sheet_name)"
   ]
  },
  {
   "cell_type": "markdown",
   "metadata": {},
   "source": [
    "Here I extract all the proteins with a differential regulation score (>0.3 and <-0.3). I sort them into upregulated and downregulated as well as add them to the differential. I also extract the names of all proteins identified."
   ]
  },
  {
   "cell_type": "code",
   "execution_count": 16,
   "metadata": {},
   "outputs": [],
   "source": [
    "j_u = j_df.loc[j_df['Regulation score'] >= 0.3]\n",
    "j_upreg = j_u['Protein group accession']"
   ]
  },
  {
   "cell_type": "code",
   "execution_count": 17,
   "metadata": {},
   "outputs": [
    {
     "name": "stdout",
     "output_type": "stream",
     "text": [
      "545\n"
     ]
    }
   ],
   "source": [
    "print(len(j_upreg))"
   ]
  },
  {
   "cell_type": "code",
   "execution_count": 18,
   "metadata": {},
   "outputs": [],
   "source": [
    "j_d = j_df.loc[j_df['Regulation score'] <= -0.3]\n",
    "j_downreg = j_d['Protein group accession']"
   ]
  },
  {
   "cell_type": "code",
   "execution_count": 19,
   "metadata": {},
   "outputs": [
    {
     "name": "stdout",
     "output_type": "stream",
     "text": [
      "592\n"
     ]
    }
   ],
   "source": [
    "print(len(j_downreg))"
   ]
  },
  {
   "cell_type": "markdown",
   "metadata": {},
   "source": [
    "## Pathway Analysis"
   ]
  },
  {
   "cell_type": "markdown",
   "metadata": {},
   "source": [
    "Here I am doing a functional pathway enrichment. I use GProfiler to run a KEGG analysis on the significantly upregulated and downregulated proteins for each paper. I then filter for the columns I want."
   ]
  },
  {
   "cell_type": "code",
   "execution_count": 20,
   "metadata": {},
   "outputs": [],
   "source": [
    "gp = GProfiler(return_dataframe = True)"
   ]
  },
  {
   "cell_type": "code",
   "execution_count": 21,
   "metadata": {},
   "outputs": [
    {
     "data": {
      "text/html": [
       "<div>\n",
       "<style scoped>\n",
       "    .dataframe tbody tr th:only-of-type {\n",
       "        vertical-align: middle;\n",
       "    }\n",
       "\n",
       "    .dataframe tbody tr th {\n",
       "        vertical-align: top;\n",
       "    }\n",
       "\n",
       "    .dataframe thead th {\n",
       "        text-align: right;\n",
       "    }\n",
       "</style>\n",
       "<table border=\"1\" class=\"dataframe\">\n",
       "  <thead>\n",
       "    <tr style=\"text-align: right;\">\n",
       "      <th></th>\n",
       "      <th>source</th>\n",
       "      <th>name</th>\n",
       "      <th>p_value</th>\n",
       "      <th>description</th>\n",
       "      <th>term_size</th>\n",
       "      <th>query_size</th>\n",
       "      <th>intersection_size</th>\n",
       "    </tr>\n",
       "  </thead>\n",
       "  <tbody>\n",
       "    <tr>\n",
       "      <th>136</th>\n",
       "      <td>KEGG</td>\n",
       "      <td>Spliceosome</td>\n",
       "      <td>2.851014e-22</td>\n",
       "      <td>Spliceosome</td>\n",
       "      <td>150</td>\n",
       "      <td>240</td>\n",
       "      <td>37</td>\n",
       "    </tr>\n",
       "    <tr>\n",
       "      <th>535</th>\n",
       "      <td>KEGG</td>\n",
       "      <td>mRNA surveillance pathway</td>\n",
       "      <td>5.066431e-08</td>\n",
       "      <td>mRNA surveillance pathway</td>\n",
       "      <td>98</td>\n",
       "      <td>240</td>\n",
       "      <td>18</td>\n",
       "    </tr>\n",
       "    <tr>\n",
       "      <th>544</th>\n",
       "      <td>KEGG</td>\n",
       "      <td>Valine, leucine and isoleucine degradation</td>\n",
       "      <td>8.914372e-08</td>\n",
       "      <td>Valine, leucine and isoleucine degradation</td>\n",
       "      <td>48</td>\n",
       "      <td>240</td>\n",
       "      <td>13</td>\n",
       "    </tr>\n",
       "    <tr>\n",
       "      <th>1058</th>\n",
       "      <td>KEGG</td>\n",
       "      <td>Nucleotide excision repair</td>\n",
       "      <td>3.496473e-02</td>\n",
       "      <td>Nucleotide excision repair</td>\n",
       "      <td>45</td>\n",
       "      <td>240</td>\n",
       "      <td>7</td>\n",
       "    </tr>\n",
       "    <tr>\n",
       "      <th>1060</th>\n",
       "      <td>KEGG</td>\n",
       "      <td>Notch signaling pathway</td>\n",
       "      <td>3.512498e-02</td>\n",
       "      <td>Notch signaling pathway</td>\n",
       "      <td>59</td>\n",
       "      <td>240</td>\n",
       "      <td>8</td>\n",
       "    </tr>\n",
       "  </tbody>\n",
       "</table>\n",
       "</div>"
      ],
      "text/plain": [
       "     source                                        name       p_value  \\\n",
       "136    KEGG                                 Spliceosome  2.851014e-22   \n",
       "535    KEGG                   mRNA surveillance pathway  5.066431e-08   \n",
       "544    KEGG  Valine, leucine and isoleucine degradation  8.914372e-08   \n",
       "1058   KEGG                  Nucleotide excision repair  3.496473e-02   \n",
       "1060   KEGG                     Notch signaling pathway  3.512498e-02   \n",
       "\n",
       "                                     description  term_size  query_size  \\\n",
       "136                                  Spliceosome        150         240   \n",
       "535                    mRNA surveillance pathway         98         240   \n",
       "544   Valine, leucine and isoleucine degradation         48         240   \n",
       "1058                  Nucleotide excision repair         45         240   \n",
       "1060                     Notch signaling pathway         59         240   \n",
       "\n",
       "      intersection_size  \n",
       "136                  37  \n",
       "535                  18  \n",
       "544                  13  \n",
       "1058                  7  \n",
       "1060                  8  "
      ]
     },
     "execution_count": 21,
     "metadata": {},
     "output_type": "execute_result"
    }
   ],
   "source": [
    "johnston_upregulated_gp = gp.profile(organism='hsapiens', query=list(j_upreg))\n",
    "j_up_df = johnston_upregulated_gp[johnston_upregulated_gp[\"source\"] == \"KEGG\"]\n",
    "j_up_df = j_up_df[['source', 'name', 'p_value', 'description', 'term_size', 'query_size', 'intersection_size']]\n",
    "j_up_df"
   ]
  },
  {
   "cell_type": "code",
   "execution_count": 22,
   "metadata": {},
   "outputs": [
    {
     "data": {
      "text/html": [
       "<div>\n",
       "<style scoped>\n",
       "    .dataframe tbody tr th:only-of-type {\n",
       "        vertical-align: middle;\n",
       "    }\n",
       "\n",
       "    .dataframe tbody tr th {\n",
       "        vertical-align: top;\n",
       "    }\n",
       "\n",
       "    .dataframe thead th {\n",
       "        text-align: right;\n",
       "    }\n",
       "</style>\n",
       "<table border=\"1\" class=\"dataframe\">\n",
       "  <thead>\n",
       "    <tr style=\"text-align: right;\">\n",
       "      <th></th>\n",
       "      <th>source</th>\n",
       "      <th>name</th>\n",
       "      <th>p_value</th>\n",
       "      <th>description</th>\n",
       "      <th>term_size</th>\n",
       "      <th>query_size</th>\n",
       "      <th>intersection_size</th>\n",
       "    </tr>\n",
       "  </thead>\n",
       "  <tbody>\n",
       "    <tr>\n",
       "      <th>168</th>\n",
       "      <td>KEGG</td>\n",
       "      <td>Leukocyte transendothelial migration</td>\n",
       "      <td>0.000014</td>\n",
       "      <td>Leukocyte transendothelial migration</td>\n",
       "      <td>114</td>\n",
       "      <td>291</td>\n",
       "      <td>18</td>\n",
       "    </tr>\n",
       "    <tr>\n",
       "      <th>210</th>\n",
       "      <td>KEGG</td>\n",
       "      <td>Lysosome</td>\n",
       "      <td>0.000083</td>\n",
       "      <td>Lysosome</td>\n",
       "      <td>128</td>\n",
       "      <td>291</td>\n",
       "      <td>18</td>\n",
       "    </tr>\n",
       "    <tr>\n",
       "      <th>256</th>\n",
       "      <td>KEGG</td>\n",
       "      <td>Chemokine signaling pathway</td>\n",
       "      <td>0.000551</td>\n",
       "      <td>Chemokine signaling pathway</td>\n",
       "      <td>190</td>\n",
       "      <td>291</td>\n",
       "      <td>21</td>\n",
       "    </tr>\n",
       "    <tr>\n",
       "      <th>321</th>\n",
       "      <td>KEGG</td>\n",
       "      <td>Rap1 signaling pathway</td>\n",
       "      <td>0.002607</td>\n",
       "      <td>Rap1 signaling pathway</td>\n",
       "      <td>210</td>\n",
       "      <td>291</td>\n",
       "      <td>21</td>\n",
       "    </tr>\n",
       "    <tr>\n",
       "      <th>350</th>\n",
       "      <td>KEGG</td>\n",
       "      <td>Platelet activation</td>\n",
       "      <td>0.004443</td>\n",
       "      <td>Platelet activation</td>\n",
       "      <td>124</td>\n",
       "      <td>291</td>\n",
       "      <td>15</td>\n",
       "    </tr>\n",
       "    <tr>\n",
       "      <th>358</th>\n",
       "      <td>KEGG</td>\n",
       "      <td>Phosphatidylinositol signaling system</td>\n",
       "      <td>0.004946</td>\n",
       "      <td>Phosphatidylinositol signaling system</td>\n",
       "      <td>97</td>\n",
       "      <td>291</td>\n",
       "      <td>13</td>\n",
       "    </tr>\n",
       "    <tr>\n",
       "      <th>398</th>\n",
       "      <td>KEGG</td>\n",
       "      <td>Lipid and atherosclerosis</td>\n",
       "      <td>0.010659</td>\n",
       "      <td>Lipid and atherosclerosis</td>\n",
       "      <td>214</td>\n",
       "      <td>291</td>\n",
       "      <td>20</td>\n",
       "    </tr>\n",
       "    <tr>\n",
       "      <th>409</th>\n",
       "      <td>KEGG</td>\n",
       "      <td>Yersinia infection</td>\n",
       "      <td>0.012997</td>\n",
       "      <td>Yersinia infection</td>\n",
       "      <td>136</td>\n",
       "      <td>291</td>\n",
       "      <td>15</td>\n",
       "    </tr>\n",
       "    <tr>\n",
       "      <th>411</th>\n",
       "      <td>KEGG</td>\n",
       "      <td>B cell receptor signaling pathway</td>\n",
       "      <td>0.013457</td>\n",
       "      <td>B cell receptor signaling pathway</td>\n",
       "      <td>79</td>\n",
       "      <td>291</td>\n",
       "      <td>11</td>\n",
       "    </tr>\n",
       "    <tr>\n",
       "      <th>475</th>\n",
       "      <td>KEGG</td>\n",
       "      <td>Leishmaniasis</td>\n",
       "      <td>0.027925</td>\n",
       "      <td>Leishmaniasis</td>\n",
       "      <td>72</td>\n",
       "      <td>291</td>\n",
       "      <td>10</td>\n",
       "    </tr>\n",
       "    <tr>\n",
       "      <th>482</th>\n",
       "      <td>KEGG</td>\n",
       "      <td>Amoebiasis</td>\n",
       "      <td>0.031130</td>\n",
       "      <td>Amoebiasis</td>\n",
       "      <td>101</td>\n",
       "      <td>291</td>\n",
       "      <td>12</td>\n",
       "    </tr>\n",
       "    <tr>\n",
       "      <th>483</th>\n",
       "      <td>KEGG</td>\n",
       "      <td>Inositol phosphate metabolism</td>\n",
       "      <td>0.031337</td>\n",
       "      <td>Inositol phosphate metabolism</td>\n",
       "      <td>73</td>\n",
       "      <td>291</td>\n",
       "      <td>10</td>\n",
       "    </tr>\n",
       "    <tr>\n",
       "      <th>493</th>\n",
       "      <td>KEGG</td>\n",
       "      <td>Endocytosis</td>\n",
       "      <td>0.035849</td>\n",
       "      <td>Endocytosis</td>\n",
       "      <td>252</td>\n",
       "      <td>291</td>\n",
       "      <td>21</td>\n",
       "    </tr>\n",
       "    <tr>\n",
       "      <th>518</th>\n",
       "      <td>KEGG</td>\n",
       "      <td>Salivary secretion</td>\n",
       "      <td>0.047855</td>\n",
       "      <td>Salivary secretion</td>\n",
       "      <td>91</td>\n",
       "      <td>291</td>\n",
       "      <td>11</td>\n",
       "    </tr>\n",
       "    <tr>\n",
       "      <th>521</th>\n",
       "      <td>KEGG</td>\n",
       "      <td>Various types of N-glycan biosynthesis</td>\n",
       "      <td>0.048984</td>\n",
       "      <td>Various types of N-glycan biosynthesis</td>\n",
       "      <td>39</td>\n",
       "      <td>291</td>\n",
       "      <td>7</td>\n",
       "    </tr>\n",
       "  </tbody>\n",
       "</table>\n",
       "</div>"
      ],
      "text/plain": [
       "    source                                    name   p_value  \\\n",
       "168   KEGG    Leukocyte transendothelial migration  0.000014   \n",
       "210   KEGG                                Lysosome  0.000083   \n",
       "256   KEGG             Chemokine signaling pathway  0.000551   \n",
       "321   KEGG                  Rap1 signaling pathway  0.002607   \n",
       "350   KEGG                     Platelet activation  0.004443   \n",
       "358   KEGG   Phosphatidylinositol signaling system  0.004946   \n",
       "398   KEGG               Lipid and atherosclerosis  0.010659   \n",
       "409   KEGG                      Yersinia infection  0.012997   \n",
       "411   KEGG       B cell receptor signaling pathway  0.013457   \n",
       "475   KEGG                           Leishmaniasis  0.027925   \n",
       "482   KEGG                              Amoebiasis  0.031130   \n",
       "483   KEGG           Inositol phosphate metabolism  0.031337   \n",
       "493   KEGG                             Endocytosis  0.035849   \n",
       "518   KEGG                      Salivary secretion  0.047855   \n",
       "521   KEGG  Various types of N-glycan biosynthesis  0.048984   \n",
       "\n",
       "                                description  term_size  query_size  \\\n",
       "168    Leukocyte transendothelial migration        114         291   \n",
       "210                                Lysosome        128         291   \n",
       "256             Chemokine signaling pathway        190         291   \n",
       "321                  Rap1 signaling pathway        210         291   \n",
       "350                     Platelet activation        124         291   \n",
       "358   Phosphatidylinositol signaling system         97         291   \n",
       "398               Lipid and atherosclerosis        214         291   \n",
       "409                      Yersinia infection        136         291   \n",
       "411       B cell receptor signaling pathway         79         291   \n",
       "475                           Leishmaniasis         72         291   \n",
       "482                              Amoebiasis        101         291   \n",
       "483           Inositol phosphate metabolism         73         291   \n",
       "493                             Endocytosis        252         291   \n",
       "518                      Salivary secretion         91         291   \n",
       "521  Various types of N-glycan biosynthesis         39         291   \n",
       "\n",
       "     intersection_size  \n",
       "168                 18  \n",
       "210                 18  \n",
       "256                 21  \n",
       "321                 21  \n",
       "350                 15  \n",
       "358                 13  \n",
       "398                 20  \n",
       "409                 15  \n",
       "411                 11  \n",
       "475                 10  \n",
       "482                 12  \n",
       "483                 10  \n",
       "493                 21  \n",
       "518                 11  \n",
       "521                  7  "
      ]
     },
     "execution_count": 22,
     "metadata": {},
     "output_type": "execute_result"
    }
   ],
   "source": [
    "johnston_downregulated_gp = gp.profile(organism='hsapiens', query=list(j_downreg))\n",
    "j_down_df = johnston_downregulated_gp[johnston_downregulated_gp[\"source\"] == \"KEGG\"]\n",
    "j_down_df = j_down_df[['source', 'name', 'p_value', 'description', 'term_size', 'query_size', 'intersection_size']]\n",
    "j_down_df"
   ]
  },
  {
   "cell_type": "code",
   "execution_count": 23,
   "metadata": {},
   "outputs": [
    {
     "data": {
      "text/html": [
       "<div>\n",
       "<style scoped>\n",
       "    .dataframe tbody tr th:only-of-type {\n",
       "        vertical-align: middle;\n",
       "    }\n",
       "\n",
       "    .dataframe tbody tr th {\n",
       "        vertical-align: top;\n",
       "    }\n",
       "\n",
       "    .dataframe thead th {\n",
       "        text-align: right;\n",
       "    }\n",
       "</style>\n",
       "<table border=\"1\" class=\"dataframe\">\n",
       "  <thead>\n",
       "    <tr style=\"text-align: right;\">\n",
       "      <th></th>\n",
       "      <th>source</th>\n",
       "      <th>name</th>\n",
       "      <th>p_value</th>\n",
       "      <th>description</th>\n",
       "      <th>term_size</th>\n",
       "      <th>query_size</th>\n",
       "      <th>intersection_size</th>\n",
       "    </tr>\n",
       "  </thead>\n",
       "  <tbody>\n",
       "    <tr>\n",
       "      <th>479</th>\n",
       "      <td>KEGG</td>\n",
       "      <td>Pyruvate metabolism</td>\n",
       "      <td>0.002048</td>\n",
       "      <td>Pyruvate metabolism</td>\n",
       "      <td>47</td>\n",
       "      <td>204</td>\n",
       "      <td>8</td>\n",
       "    </tr>\n",
       "    <tr>\n",
       "      <th>516</th>\n",
       "      <td>KEGG</td>\n",
       "      <td>Metabolic pathways</td>\n",
       "      <td>0.005310</td>\n",
       "      <td>Metabolic pathways</td>\n",
       "      <td>1491</td>\n",
       "      <td>204</td>\n",
       "      <td>61</td>\n",
       "    </tr>\n",
       "    <tr>\n",
       "      <th>545</th>\n",
       "      <td>KEGG</td>\n",
       "      <td>Glyoxylate and dicarboxylate metabolism</td>\n",
       "      <td>0.008932</td>\n",
       "      <td>Glyoxylate and dicarboxylate metabolism</td>\n",
       "      <td>30</td>\n",
       "      <td>204</td>\n",
       "      <td>6</td>\n",
       "    </tr>\n",
       "  </tbody>\n",
       "</table>\n",
       "</div>"
      ],
      "text/plain": [
       "    source                                     name   p_value  \\\n",
       "479   KEGG                      Pyruvate metabolism  0.002048   \n",
       "516   KEGG                       Metabolic pathways  0.005310   \n",
       "545   KEGG  Glyoxylate and dicarboxylate metabolism  0.008932   \n",
       "\n",
       "                                 description  term_size  query_size  \\\n",
       "479                      Pyruvate metabolism         47         204   \n",
       "516                       Metabolic pathways       1491         204   \n",
       "545  Glyoxylate and dicarboxylate metabolism         30         204   \n",
       "\n",
       "     intersection_size  \n",
       "479                  8  \n",
       "516                 61  \n",
       "545                  6  "
      ]
     },
     "execution_count": 23,
     "metadata": {},
     "output_type": "execute_result"
    }
   ],
   "source": [
    "mayer_upregulated_gp = gp.profile(organism='hsapiens', query=list(m_upreg))\n",
    "m_up_df = mayer_upregulated_gp[mayer_upregulated_gp[\"source\"] == \"KEGG\"]\n",
    "m_up_df = m_up_df[['source', 'name', 'p_value', 'description', 'term_size', 'query_size', 'intersection_size']]\n",
    "m_up_df"
   ]
  },
  {
   "cell_type": "code",
   "execution_count": 24,
   "metadata": {},
   "outputs": [
    {
     "data": {
      "text/html": [
       "<div>\n",
       "<style scoped>\n",
       "    .dataframe tbody tr th:only-of-type {\n",
       "        vertical-align: middle;\n",
       "    }\n",
       "\n",
       "    .dataframe tbody tr th {\n",
       "        vertical-align: top;\n",
       "    }\n",
       "\n",
       "    .dataframe thead th {\n",
       "        text-align: right;\n",
       "    }\n",
       "</style>\n",
       "<table border=\"1\" class=\"dataframe\">\n",
       "  <thead>\n",
       "    <tr style=\"text-align: right;\">\n",
       "      <th></th>\n",
       "      <th>source</th>\n",
       "      <th>name</th>\n",
       "      <th>p_value</th>\n",
       "      <th>description</th>\n",
       "      <th>term_size</th>\n",
       "      <th>query_size</th>\n",
       "      <th>intersection_size</th>\n",
       "    </tr>\n",
       "  </thead>\n",
       "  <tbody>\n",
       "    <tr>\n",
       "      <th>34</th>\n",
       "      <td>KEGG</td>\n",
       "      <td>Complement and coagulation cascades</td>\n",
       "      <td>3.480036e-13</td>\n",
       "      <td>Complement and coagulation cascades</td>\n",
       "      <td>85</td>\n",
       "      <td>188</td>\n",
       "      <td>20</td>\n",
       "    </tr>\n",
       "    <tr>\n",
       "      <th>44</th>\n",
       "      <td>KEGG</td>\n",
       "      <td>Hematopoietic cell lineage</td>\n",
       "      <td>4.740364e-10</td>\n",
       "      <td>Hematopoietic cell lineage</td>\n",
       "      <td>95</td>\n",
       "      <td>188</td>\n",
       "      <td>18</td>\n",
       "    </tr>\n",
       "    <tr>\n",
       "      <th>78</th>\n",
       "      <td>KEGG</td>\n",
       "      <td>ECM-receptor interaction</td>\n",
       "      <td>1.456775e-07</td>\n",
       "      <td>ECM-receptor interaction</td>\n",
       "      <td>88</td>\n",
       "      <td>188</td>\n",
       "      <td>15</td>\n",
       "    </tr>\n",
       "    <tr>\n",
       "      <th>91</th>\n",
       "      <td>KEGG</td>\n",
       "      <td>Platelet activation</td>\n",
       "      <td>3.699831e-07</td>\n",
       "      <td>Platelet activation</td>\n",
       "      <td>124</td>\n",
       "      <td>188</td>\n",
       "      <td>17</td>\n",
       "    </tr>\n",
       "    <tr>\n",
       "      <th>109</th>\n",
       "      <td>KEGG</td>\n",
       "      <td>Neutrophil extracellular trap formation</td>\n",
       "      <td>1.455110e-06</td>\n",
       "      <td>Neutrophil extracellular trap formation</td>\n",
       "      <td>189</td>\n",
       "      <td>188</td>\n",
       "      <td>20</td>\n",
       "    </tr>\n",
       "    <tr>\n",
       "      <th>158</th>\n",
       "      <td>KEGG</td>\n",
       "      <td>Phagosome</td>\n",
       "      <td>2.947435e-05</td>\n",
       "      <td>Phagosome</td>\n",
       "      <td>147</td>\n",
       "      <td>188</td>\n",
       "      <td>16</td>\n",
       "    </tr>\n",
       "    <tr>\n",
       "      <th>204</th>\n",
       "      <td>KEGG</td>\n",
       "      <td>Regulation of actin cytoskeleton</td>\n",
       "      <td>2.810250e-04</td>\n",
       "      <td>Regulation of actin cytoskeleton</td>\n",
       "      <td>216</td>\n",
       "      <td>188</td>\n",
       "      <td>18</td>\n",
       "    </tr>\n",
       "    <tr>\n",
       "      <th>247</th>\n",
       "      <td>KEGG</td>\n",
       "      <td>Focal adhesion</td>\n",
       "      <td>1.718691e-03</td>\n",
       "      <td>Focal adhesion</td>\n",
       "      <td>200</td>\n",
       "      <td>188</td>\n",
       "      <td>16</td>\n",
       "    </tr>\n",
       "    <tr>\n",
       "      <th>274</th>\n",
       "      <td>KEGG</td>\n",
       "      <td>Leishmaniasis</td>\n",
       "      <td>4.191412e-03</td>\n",
       "      <td>Leishmaniasis</td>\n",
       "      <td>72</td>\n",
       "      <td>188</td>\n",
       "      <td>9</td>\n",
       "    </tr>\n",
       "    <tr>\n",
       "      <th>286</th>\n",
       "      <td>KEGG</td>\n",
       "      <td>Leukocyte transendothelial migration</td>\n",
       "      <td>6.897581e-03</td>\n",
       "      <td>Leukocyte transendothelial migration</td>\n",
       "      <td>114</td>\n",
       "      <td>188</td>\n",
       "      <td>11</td>\n",
       "    </tr>\n",
       "    <tr>\n",
       "      <th>310</th>\n",
       "      <td>KEGG</td>\n",
       "      <td>Malaria</td>\n",
       "      <td>1.290488e-02</td>\n",
       "      <td>Malaria</td>\n",
       "      <td>49</td>\n",
       "      <td>188</td>\n",
       "      <td>7</td>\n",
       "    </tr>\n",
       "    <tr>\n",
       "      <th>330</th>\n",
       "      <td>KEGG</td>\n",
       "      <td>Staphylococcus aureus infection</td>\n",
       "      <td>1.865890e-02</td>\n",
       "      <td>Staphylococcus aureus infection</td>\n",
       "      <td>87</td>\n",
       "      <td>188</td>\n",
       "      <td>9</td>\n",
       "    </tr>\n",
       "    <tr>\n",
       "      <th>371</th>\n",
       "      <td>KEGG</td>\n",
       "      <td>Dilated cardiomyopathy</td>\n",
       "      <td>3.637958e-02</td>\n",
       "      <td>Dilated cardiomyopathy</td>\n",
       "      <td>95</td>\n",
       "      <td>188</td>\n",
       "      <td>9</td>\n",
       "    </tr>\n",
       "    <tr>\n",
       "      <th>376</th>\n",
       "      <td>KEGG</td>\n",
       "      <td>Arrhythmogenic right ventricular cardiomyopathy</td>\n",
       "      <td>4.126518e-02</td>\n",
       "      <td>Arrhythmogenic right ventricular cardiomyopathy</td>\n",
       "      <td>77</td>\n",
       "      <td>188</td>\n",
       "      <td>8</td>\n",
       "    </tr>\n",
       "  </tbody>\n",
       "</table>\n",
       "</div>"
      ],
      "text/plain": [
       "    source                                             name       p_value  \\\n",
       "34    KEGG              Complement and coagulation cascades  3.480036e-13   \n",
       "44    KEGG                       Hematopoietic cell lineage  4.740364e-10   \n",
       "78    KEGG                         ECM-receptor interaction  1.456775e-07   \n",
       "91    KEGG                              Platelet activation  3.699831e-07   \n",
       "109   KEGG          Neutrophil extracellular trap formation  1.455110e-06   \n",
       "158   KEGG                                        Phagosome  2.947435e-05   \n",
       "204   KEGG                 Regulation of actin cytoskeleton  2.810250e-04   \n",
       "247   KEGG                                   Focal adhesion  1.718691e-03   \n",
       "274   KEGG                                    Leishmaniasis  4.191412e-03   \n",
       "286   KEGG             Leukocyte transendothelial migration  6.897581e-03   \n",
       "310   KEGG                                          Malaria  1.290488e-02   \n",
       "330   KEGG                  Staphylococcus aureus infection  1.865890e-02   \n",
       "371   KEGG                           Dilated cardiomyopathy  3.637958e-02   \n",
       "376   KEGG  Arrhythmogenic right ventricular cardiomyopathy  4.126518e-02   \n",
       "\n",
       "                                         description  term_size  query_size  \\\n",
       "34               Complement and coagulation cascades         85         188   \n",
       "44                        Hematopoietic cell lineage         95         188   \n",
       "78                          ECM-receptor interaction         88         188   \n",
       "91                               Platelet activation        124         188   \n",
       "109          Neutrophil extracellular trap formation        189         188   \n",
       "158                                        Phagosome        147         188   \n",
       "204                 Regulation of actin cytoskeleton        216         188   \n",
       "247                                   Focal adhesion        200         188   \n",
       "274                                    Leishmaniasis         72         188   \n",
       "286             Leukocyte transendothelial migration        114         188   \n",
       "310                                          Malaria         49         188   \n",
       "330                  Staphylococcus aureus infection         87         188   \n",
       "371                           Dilated cardiomyopathy         95         188   \n",
       "376  Arrhythmogenic right ventricular cardiomyopathy         77         188   \n",
       "\n",
       "     intersection_size  \n",
       "34                  20  \n",
       "44                  18  \n",
       "78                  15  \n",
       "91                  17  \n",
       "109                 20  \n",
       "158                 16  \n",
       "204                 18  \n",
       "247                 16  \n",
       "274                  9  \n",
       "286                 11  \n",
       "310                  7  \n",
       "330                  9  \n",
       "371                  9  \n",
       "376                  8  "
      ]
     },
     "execution_count": 24,
     "metadata": {},
     "output_type": "execute_result"
    }
   ],
   "source": [
    "mayer_downregulated_gp = gp.profile(organism='hsapiens', query=list(m_downreg))\n",
    "m_down_df = mayer_downregulated_gp[mayer_downregulated_gp[\"source\"] == \"KEGG\"]\n",
    "m_down_df = m_down_df[['source', 'name', 'p_value', 'description', 'term_size', 'query_size', 'intersection_size']]\n",
    "m_down_df"
   ]
  },
  {
   "cell_type": "markdown",
   "metadata": {},
   "source": [
    "Next I look to see what pathways are shared by Mayer and Johnston"
   ]
  },
  {
   "cell_type": "code",
   "execution_count": 25,
   "metadata": {},
   "outputs": [
    {
     "name": "stdout",
     "output_type": "stream",
     "text": [
      "set()\n",
      "{'Leishmaniasis', 'Leukocyte transendothelial migration', 'Platelet activation'}\n"
     ]
    }
   ],
   "source": [
    "up_intersect = set(m_up_df['name']).intersection(j_up_df['name'])\n",
    "print(up_intersect)\n",
    "down_intersect = set(m_down_df['name']).intersection(j_down_df['name'])\n",
    "print(down_intersect)"
   ]
  },
  {
   "cell_type": "markdown",
   "metadata": {},
   "source": [
    "Export as image or save to file"
   ]
  },
  {
   "cell_type": "code",
   "execution_count": 26,
   "metadata": {},
   "outputs": [],
   "source": [
    "#import dataframe_image as dfi\n",
    "#dfi.export(j_up_df, 'data/j_up_path.png')\n",
    "#dfi.export(j_down_df, 'data/j_down_path.png')\n",
    "#dfi.export(m_up_df, 'data/m_up_path.png')\n",
    "#dfi.export(m_down_df, 'data/m_down_path.png')"
   ]
  },
  {
   "cell_type": "code",
   "execution_count": 27,
   "metadata": {},
   "outputs": [],
   "source": [
    "#from pandas import ExcelWriter\n",
    "#frames = [j_up_df, j_down_df, m_up_df, m_down_df]\n",
    "#saveFile = 'data/table3.xlsx'\n",
    "#writer = ExcelWriter(saveFile)\n",
    "#for x in range(len(frames)):\n",
    "#    sheet_name = 'sheet' + str(x+1)\n",
    "#    frames[x].to_excel(writer, sheet_name)\n",
    "#writer.save()"
   ]
  }
 ],
 "metadata": {
  "kernelspec": {
   "display_name": "Python 3",
   "language": "python",
   "name": "python3"
  },
  "language_info": {
   "codemirror_mode": {
    "name": "ipython",
    "version": 3
   },
   "file_extension": ".py",
   "mimetype": "text/x-python",
   "name": "python",
   "nbconvert_exporter": "python",
   "pygments_lexer": "ipython3",
   "version": "3.8.3"
  }
 },
 "nbformat": 4,
 "nbformat_minor": 4
}
