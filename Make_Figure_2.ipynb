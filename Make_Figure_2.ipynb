{
 "cells": [
  {
   "cell_type": "markdown",
   "metadata": {},
   "source": [
    "# Mayer vs Johnston Comparison\n",
    "\n",
    "In this notebook we analyze the proteins in the Johnston and Mayer papers. First, we extract their total and differential proteins. We also sort the differential proteins into those that are upregulated and those that are downregulated. After we extract their data, we make a venn diagram comparing their differential proteins, and another venn diagram comparing their total proteins. We then plot the p-values of the significant proteins in each paper against each other."
   ]
  },
  {
   "cell_type": "code",
   "execution_count": 1,
   "metadata": {},
   "outputs": [],
   "source": [
    "johnston_file = \"testing/data/134638_0_supp_38937_p0y7zb.xlsx\"\n",
    "mayer_file = \"testing/data/133399_0_supp_15943_4ybsvb.xlsx\""
   ]
  },
  {
   "cell_type": "code",
   "execution_count": 2,
   "metadata": {},
   "outputs": [],
   "source": [
    "import pandas as pd\n",
    "import requests\n",
    "import os.path\n",
    "import os\n",
    "from os import path\n",
    "from numpy import log10\n",
    "from gprofiler import GProfiler\n",
    "import longitudinalCLL\n",
    "import seaborn as sns\n",
    "from scipy import stats\n",
    "import matplotlib.ticker as ticker\n",
    "import matplotlib.pyplot as plt\n",
    "from matplotlib_venn import venn2\n",
    "from matplotlib_venn import venn3"
   ]
  },
  {
   "cell_type": "markdown",
   "metadata": {},
   "source": [
    "## Mayer Paper\n",
    "\n",
    "Dowload and import supplementary table 3, use after imputation sheets (Mayer et al., 2018)\n",
    "https://www.ncbi.nlm.nih.gov/pmc/articles/PMC5795392/bin/supp_RA117.000425_133399_0_supp_15943_4ybsvb.xlsx\n",
    "\n",
    "I parse the dataframe and extract all the names of identified proteins and differential (+ in t-test column).\n",
    "The differential and total proteins identified will be used to generate venn diagrams.\n",
    "There are 6,945 total proteins identified in the paper and 795 differential proteins."
   ]
  },
  {
   "cell_type": "markdown",
   "metadata": {},
   "source": [
    "Since this paper differentiated between nuclear and cytoplasmic, we have to read in 2 files. First, we pull the nuclear file and extract the significant, upregulated, and downregulated proteins."
   ]
  },
  {
   "cell_type": "code",
   "execution_count": 3,
   "metadata": {},
   "outputs": [],
   "source": [
    "ne_sheet_name = \"NE_after imputation\"\n",
    "#The other is \"NE_before imputation\"\n",
    "m_ne_df = pd.read_excel(mayer_file, sheet_name = ne_sheet_name)"
   ]
  },
  {
   "cell_type": "code",
   "execution_count": 4,
   "metadata": {},
   "outputs": [],
   "source": [
    "m_sig_ne = m_ne_df.loc[m_ne_df['Student\\'s t-test Significant CLL vs elderly Bcells'] == '+']\n",
    "m_up_ne = m_sig_ne.loc[m_sig_ne['Student\\'s t-test Difference  CLL vs  elderly B cells'] > 0]\n",
    "m_down_ne = m_sig_ne.loc[m_sig_ne['Student\\'s t-test Difference  CLL vs  elderly B cells'] < 0]"
   ]
  },
  {
   "cell_type": "markdown",
   "metadata": {},
   "source": [
    "Next, we pull the cytoplasmic file and extract the significant, upregulated, and downregulated proteins."
   ]
  },
  {
   "cell_type": "code",
   "execution_count": 5,
   "metadata": {},
   "outputs": [],
   "source": [
    "mayer_cyt_sheet_name = \"CYT_after imputation\"\n",
    "m_cyt_df = pd.read_excel(mayer_file, sheet_name= mayer_cyt_sheet_name,\n",
    "                         skiprows = 1) #There is a header saying sup. table s3"
   ]
  },
  {
   "cell_type": "code",
   "execution_count": 6,
   "metadata": {},
   "outputs": [],
   "source": [
    "m_sig_cyt = m_cyt_df.loc[m_cyt_df['Student\\'s t-test Significant CLL vs elderly B cells'] == '+']\n",
    "#m_up_cyt = m_sig_cyt.loc[m_sig_cyt['Student\\'s t-test Difference  CLL vs  elderly B cells'] > 0]\n",
    "#m_down_cyt = m_sig_cyt.loc[m_sig_cyt['Student\\'s t-test Difference  CLL vs  elderly B cells'] < 0]"
   ]
  },
  {
   "cell_type": "code",
   "execution_count": 7,
   "metadata": {},
   "outputs": [],
   "source": [
    "m_diff = []"
   ]
  },
  {
   "cell_type": "code",
   "execution_count": 8,
   "metadata": {},
   "outputs": [],
   "source": [
    "sig_frames = [m_sig_ne, m_sig_cyt]\n",
    "sig = pd.concat(sig_frames)"
   ]
  },
  {
   "cell_type": "code",
   "execution_count": 9,
   "metadata": {},
   "outputs": [],
   "source": [
    "for protein in sig['Protein IDs'] :\n",
    "    temp = protein.split(\";\")\n",
    "    m_diff.append(temp[0])"
   ]
  },
  {
   "cell_type": "code",
   "execution_count": 10,
   "metadata": {},
   "outputs": [],
   "source": [
    "#m_upreg = []"
   ]
  },
  {
   "cell_type": "code",
   "execution_count": 11,
   "metadata": {},
   "outputs": [],
   "source": [
    "#up_frames = [m_up_ne, m_up_cyt]\n",
    "#m_u = pd.concat(up_frames)"
   ]
  },
  {
   "cell_type": "code",
   "execution_count": 12,
   "metadata": {},
   "outputs": [],
   "source": [
    "#for protein in m_u['Protein IDs'] :\n",
    " #   temp = protein.split(\";\")\n",
    "  #  m_upreg.append(temp[0])"
   ]
  },
  {
   "cell_type": "code",
   "execution_count": 13,
   "metadata": {},
   "outputs": [],
   "source": [
    "#m_downreg = []"
   ]
  },
  {
   "cell_type": "code",
   "execution_count": 14,
   "metadata": {},
   "outputs": [],
   "source": [
    "#down_frames = [m_down_ne, m_down_cyt]\n",
    "#m_d = pd.concat(down_frames)"
   ]
  },
  {
   "cell_type": "code",
   "execution_count": 15,
   "metadata": {},
   "outputs": [],
   "source": [
    "#for protein in m_d['Protein IDs'] :\n",
    " #   temp = protein.split(\";\")\n",
    "  #  m_downreg.append(temp[0])"
   ]
  },
  {
   "cell_type": "markdown",
   "metadata": {},
   "source": [
    "The following cells extract all the proteins identified"
   ]
  },
  {
   "cell_type": "code",
   "execution_count": 16,
   "metadata": {},
   "outputs": [],
   "source": [
    "m_tot = []"
   ]
  },
  {
   "cell_type": "code",
   "execution_count": 17,
   "metadata": {},
   "outputs": [],
   "source": [
    "frames = [m_ne_df, m_cyt_df]\n",
    "m_t = pd.concat(frames)"
   ]
  },
  {
   "cell_type": "code",
   "execution_count": 18,
   "metadata": {},
   "outputs": [],
   "source": [
    "m_t.dropna(subset = ['Protein IDs'], inplace = True)"
   ]
  },
  {
   "cell_type": "code",
   "execution_count": 19,
   "metadata": {},
   "outputs": [],
   "source": [
    "for protein in m_t['Protein IDs']:\n",
    "    temp = protein.split(\";\")\n",
    "    m_tot.append(temp[0])"
   ]
  },
  {
   "cell_type": "markdown",
   "metadata": {},
   "source": [
    "Save to a file"
   ]
  },
  {
   "cell_type": "code",
   "execution_count": 20,
   "metadata": {},
   "outputs": [],
   "source": [
    "#m_diff.to_csv('data/m_diff.csv')\n",
    "#m_tot.to_csv('data/m_tot.csv')"
   ]
  },
  {
   "cell_type": "markdown",
   "metadata": {},
   "source": [
    "## Johnston Paper\n",
    "Download and import supplementary table 2 (Johnston et al., 2018)\n",
    "https://www.ncbi.nlm.nih.gov/pmc/articles/PMC5880099/bin/supp_RA117.000539_134638_0_supp_38937_p0y7zb.xlsx\n",
    "\n",
    "I parse the dataframe and extract all the names of identified proteins, all the proteins labeled as significantly upregulated (>0.3) and downregulated (<-0.3), and differential.\n",
    "The differential and total proteins identified will be used to generate venn diagrams.\n",
    "There are 5,956 total proteins identified in the paper and 1137 differential proteins"
   ]
  },
  {
   "cell_type": "code",
   "execution_count": 21,
   "metadata": {},
   "outputs": [],
   "source": [
    "j_sheet_name = \"CLL proteome\"\n",
    "j_df = pd.read_excel(johnston_file, sheet_name = j_sheet_name)"
   ]
  },
  {
   "cell_type": "markdown",
   "metadata": {},
   "source": [
    "Here I extract all the proteins with a differential regulation score (>0.3 and <-0.3). I sort them into upregulated and downregulated as well as add them to the differential. I also extract the names of all proteins identified."
   ]
  },
  {
   "cell_type": "code",
   "execution_count": 22,
   "metadata": {},
   "outputs": [],
   "source": [
    "j_u = j_df.loc[j_df['Regulation score'] >= 0.3]\n",
    "j_upreg = j_u['Protein group accession']"
   ]
  },
  {
   "cell_type": "code",
   "execution_count": 23,
   "metadata": {},
   "outputs": [],
   "source": [
    "j_d = j_df.loc[j_df['Regulation score'] <= -0.3]\n",
    "j_downreg = j_d['Protein group accession']"
   ]
  },
  {
   "cell_type": "code",
   "execution_count": 24,
   "metadata": {},
   "outputs": [],
   "source": [
    "diff_frames = [j_downreg, j_upreg]\n",
    "j_diff = pd.concat(diff_frames)"
   ]
  },
  {
   "cell_type": "code",
   "execution_count": 25,
   "metadata": {},
   "outputs": [],
   "source": [
    "j_tot = j_df['Protein group accession']"
   ]
  },
  {
   "cell_type": "markdown",
   "metadata": {},
   "source": [
    "Save to a file"
   ]
  },
  {
   "cell_type": "code",
   "execution_count": 26,
   "metadata": {},
   "outputs": [],
   "source": [
    "#j_diff.to_csv('data/j_diff.csv')\n",
    "#j_tot.to_csv('data/j_tot.csv')"
   ]
  },
  {
   "cell_type": "markdown",
   "metadata": {},
   "source": [
    "## Overlap"
   ]
  },
  {
   "cell_type": "markdown",
   "metadata": {},
   "source": [
    "Here I make venn diagrams looking at the overlaps between the papers"
   ]
  },
  {
   "cell_type": "code",
   "execution_count": 27,
   "metadata": {
    "scrolled": true
   },
   "outputs": [
    {
     "data": {
      "image/png": "[encoded data removed]",
      "text/plain": [
       "<Figure size 432x288 with 1 Axes>"
      ]
     },
     "metadata": {},
     "output_type": "display_data"
    }
   ],
   "source": [
    "venn2(subsets = (set(m_tot), set(j_tot)), set_labels = ('Mayer', 'Johnston'))\n",
    "#plt.savefig('testing/data/total_overlap.png', bbox_inches='tight', dpi=300)\n",
    "plt.show()"
   ]
  },
  {
   "cell_type": "markdown",
   "metadata": {},
   "source": [
    "This venn diagram shows the overlap for the total proteins in Mayer and Johnston."
   ]
  },
  {
   "cell_type": "code",
   "execution_count": 28,
   "metadata": {},
   "outputs": [
    {
     "data": {
      "image/png": "[encoded data removed]",
      "text/plain": [
       "<Figure size 432x288 with 1 Axes>"
      ]
     },
     "metadata": {},
     "output_type": "display_data"
    }
   ],
   "source": [
    "venn2(subsets = (set(m_diff), set(j_diff)), set_labels = ('Mayer', 'Johnston'))\n",
    "#plt.savefig('testing/data/diff_overlap.png', bbox_inches='tight', dpi=300)\n",
    "plt.show()"
   ]
  },
  {
   "cell_type": "markdown",
   "metadata": {},
   "source": [
    "This venn diagram shows the overlap between differential proteins of Mayer and Johnston"
   ]
  },
  {
   "cell_type": "markdown",
   "metadata": {},
   "source": [
    "## P-value plot\n",
    "Here I use the p-values to plot the proteins of Mayer and Johnston against each other"
   ]
  },
  {
   "cell_type": "code",
   "execution_count": 29,
   "metadata": {},
   "outputs": [
    {
     "data": {
      "text/html": [
       "<div>\n",
       "<style scoped>\n",
       "    .dataframe tbody tr th:only-of-type {\n",
       "        vertical-align: middle;\n",
       "    }\n",
       "\n",
       "    .dataframe tbody tr th {\n",
       "        vertical-align: top;\n",
       "    }\n",
       "\n",
       "    .dataframe thead th {\n",
       "        text-align: right;\n",
       "    }\n",
       "</style>\n",
       "<table border=\"1\" class=\"dataframe\">\n",
       "  <thead>\n",
       "    <tr style=\"text-align: right;\">\n",
       "      <th></th>\n",
       "      <th>-Log10(p value)</th>\n",
       "    </tr>\n",
       "    <tr>\n",
       "      <th>Protein group accession</th>\n",
       "      <th></th>\n",
       "    </tr>\n",
       "  </thead>\n",
       "  <tbody>\n",
       "    <tr>\n",
       "      <th>Q07065</th>\n",
       "      <td>7.749376</td>\n",
       "    </tr>\n",
       "    <tr>\n",
       "      <th>Q9NQY0</th>\n",
       "      <td>7.778704</td>\n",
       "    </tr>\n",
       "    <tr>\n",
       "      <th>P01833</th>\n",
       "      <td>4.903921</td>\n",
       "    </tr>\n",
       "    <tr>\n",
       "      <th>Q6K0P9</th>\n",
       "      <td>6.030706</td>\n",
       "    </tr>\n",
       "    <tr>\n",
       "      <th>O94921</th>\n",
       "      <td>7.838829</td>\n",
       "    </tr>\n",
       "    <tr>\n",
       "      <th>...</th>\n",
       "      <td>...</td>\n",
       "    </tr>\n",
       "    <tr>\n",
       "      <th>Q16799</th>\n",
       "      <td>5.895298</td>\n",
       "    </tr>\n",
       "    <tr>\n",
       "      <th>A2RUS2</th>\n",
       "      <td>8.119950</td>\n",
       "    </tr>\n",
       "    <tr>\n",
       "      <th>Q12797</th>\n",
       "      <td>7.515437</td>\n",
       "    </tr>\n",
       "    <tr>\n",
       "      <th>Q6ZRY4</th>\n",
       "      <td>7.789193</td>\n",
       "    </tr>\n",
       "    <tr>\n",
       "      <th>O60229</th>\n",
       "      <td>7.515437</td>\n",
       "    </tr>\n",
       "  </tbody>\n",
       "</table>\n",
       "<p>5956 rows × 1 columns</p>\n",
       "</div>"
      ],
      "text/plain": [
       "                         -Log10(p value)\n",
       "Protein group accession                 \n",
       "Q07065                          7.749376\n",
       "Q9NQY0                          7.778704\n",
       "P01833                          4.903921\n",
       "Q6K0P9                          6.030706\n",
       "O94921                          7.838829\n",
       "...                                  ...\n",
       "Q16799                          5.895298\n",
       "A2RUS2                          8.119950\n",
       "Q12797                          7.515437\n",
       "Q6ZRY4                          7.789193\n",
       "O60229                          7.515437\n",
       "\n",
       "[5956 rows x 1 columns]"
      ]
     },
     "execution_count": 29,
     "metadata": {},
     "output_type": "execute_result"
    }
   ],
   "source": [
    "j_p = j_df[['Protein group accession', \"-Log10(p value)\"]]\n",
    "j_p.set_index('Protein group accession')"
   ]
  },
  {
   "cell_type": "code",
   "execution_count": 30,
   "metadata": {},
   "outputs": [
    {
     "data": {
      "text/html": [
       "<div>\n",
       "<style scoped>\n",
       "    .dataframe tbody tr th:only-of-type {\n",
       "        vertical-align: middle;\n",
       "    }\n",
       "\n",
       "    .dataframe tbody tr th {\n",
       "        vertical-align: top;\n",
       "    }\n",
       "\n",
       "    .dataframe thead th {\n",
       "        text-align: right;\n",
       "    }\n",
       "</style>\n",
       "<table border=\"1\" class=\"dataframe\">\n",
       "  <thead>\n",
       "    <tr style=\"text-align: right;\">\n",
       "      <th></th>\n",
       "      <th>Student's t-test p-value CLL vs  elderly B cells</th>\n",
       "    </tr>\n",
       "    <tr>\n",
       "      <th>Protein IDs</th>\n",
       "      <th></th>\n",
       "    </tr>\n",
       "  </thead>\n",
       "  <tbody>\n",
       "    <tr>\n",
       "      <th>A0AV96</th>\n",
       "      <td>0.029701</td>\n",
       "    </tr>\n",
       "    <tr>\n",
       "      <th>A0AVT1</th>\n",
       "      <td>0.353243</td>\n",
       "    </tr>\n",
       "    <tr>\n",
       "      <th>A0FGR8</th>\n",
       "      <td>0.047417</td>\n",
       "    </tr>\n",
       "    <tr>\n",
       "      <th>A0JLT2</th>\n",
       "      <td>0.217343</td>\n",
       "    </tr>\n",
       "    <tr>\n",
       "      <th>A0JNW5</th>\n",
       "      <td>0.238297</td>\n",
       "    </tr>\n",
       "    <tr>\n",
       "      <th>...</th>\n",
       "      <td>...</td>\n",
       "    </tr>\n",
       "    <tr>\n",
       "      <th>Q9Y6X5</th>\n",
       "      <td>0.804612</td>\n",
       "    </tr>\n",
       "    <tr>\n",
       "      <th>Q9Y6X8;Q9H4I2</th>\n",
       "      <td>0.264898</td>\n",
       "    </tr>\n",
       "    <tr>\n",
       "      <th>Q9Y6X9</th>\n",
       "      <td>0.426665</td>\n",
       "    </tr>\n",
       "    <tr>\n",
       "      <th>Q9Y6Y0</th>\n",
       "      <td>0.363045</td>\n",
       "    </tr>\n",
       "    <tr>\n",
       "      <th>Q9Y6Y8</th>\n",
       "      <td>0.687570</td>\n",
       "    </tr>\n",
       "  </tbody>\n",
       "</table>\n",
       "<p>6945 rows × 1 columns</p>\n",
       "</div>"
      ],
      "text/plain": [
       "               Student's t-test p-value CLL vs  elderly B cells\n",
       "Protein IDs                                                    \n",
       "A0AV96                                                 0.029701\n",
       "A0AVT1                                                 0.353243\n",
       "A0FGR8                                                 0.047417\n",
       "A0JLT2                                                 0.217343\n",
       "A0JNW5                                                 0.238297\n",
       "...                                                         ...\n",
       "Q9Y6X5                                                 0.804612\n",
       "Q9Y6X8;Q9H4I2                                          0.264898\n",
       "Q9Y6X9                                                 0.426665\n",
       "Q9Y6Y0                                                 0.363045\n",
       "Q9Y6Y8                                                 0.687570\n",
       "\n",
       "[6945 rows x 1 columns]"
      ]
     },
     "execution_count": 30,
     "metadata": {},
     "output_type": "execute_result"
    }
   ],
   "source": [
    "#mayer_p = m_ne_df[['Protein IDs', \"Student's t-test p-value CLL vs  elderly B cells\"]]\n",
    "mayer_p = pd.concat([m_ne_df[['Protein IDs', \"Student's t-test p-value CLL vs  elderly B cells\"]], m_cyt_df[['Protein IDs', \"Student's t-test p-value CLL vs  elderly B cells\"]]]).groupby(['Protein IDs'], as_index=False)[\"Student's t-test p-value CLL vs  elderly B cells\"].min()\n",
    "mayer_p.set_index('Protein IDs')"
   ]
  },
  {
   "cell_type": "code",
   "execution_count": 31,
   "metadata": {},
   "outputs": [],
   "source": [
    "mj_intersection = set(mayer_p['Protein IDs']).intersection(set(j_p['Protein group accession']))"
   ]
  },
  {
   "cell_type": "code",
   "execution_count": 32,
   "metadata": {},
   "outputs": [],
   "source": [
    "significant_in_either = mj_intersection.intersection(set(m_diff)).union(\n",
    "    mj_intersection.intersection(set(j_diff)))"
   ]
  },
  {
   "cell_type": "code",
   "execution_count": 33,
   "metadata": {},
   "outputs": [],
   "source": [
    "df_mj_pvals_sig_in_either = pd.DataFrame(index = list(significant_in_either), columns = \n",
    "                           ['Mayer et al. -log10(p)', 'Johnston et al. -log10(p)'])\n",
    "\n",
    "for i in significant_in_either:\n",
    "    val = float(mayer_p[mayer_p['Protein IDs']==i][\"Student's t-test p-value CLL vs  elderly B cells\"])\n",
    "    df_mj_pvals_sig_in_either.loc[i, 'Mayer et al. -log10(p)'] = -log10(val)#since this is p and the other is -log(p)\n",
    "    \n",
    "    valj = float(j_p[j_p['Protein group accession']==i][\"-Log10(p value)\"])\n",
    "    df_mj_pvals_sig_in_either.loc[i,'Johnston et al. -log10(p)'] = valj"
   ]
  },
  {
   "cell_type": "code",
   "execution_count": 34,
   "metadata": {},
   "outputs": [
    {
     "data": {
      "text/html": [
       "<div>\n",
       "<style scoped>\n",
       "    .dataframe tbody tr th:only-of-type {\n",
       "        vertical-align: middle;\n",
       "    }\n",
       "\n",
       "    .dataframe tbody tr th {\n",
       "        vertical-align: top;\n",
       "    }\n",
       "\n",
       "    .dataframe thead th {\n",
       "        text-align: right;\n",
       "    }\n",
       "</style>\n",
       "<table border=\"1\" class=\"dataframe\">\n",
       "  <thead>\n",
       "    <tr style=\"text-align: right;\">\n",
       "      <th></th>\n",
       "      <th>Mayer et al. -log10(p)</th>\n",
       "      <th>Johnston et al. -log10(p)</th>\n",
       "    </tr>\n",
       "  </thead>\n",
       "  <tbody>\n",
       "    <tr>\n",
       "      <th>Q9GZR2</th>\n",
       "      <td>1.99209</td>\n",
       "      <td>0.0596689</td>\n",
       "    </tr>\n",
       "    <tr>\n",
       "      <th>Q13459</th>\n",
       "      <td>0.520259</td>\n",
       "      <td>3.01538</td>\n",
       "    </tr>\n",
       "    <tr>\n",
       "      <th>P17535</th>\n",
       "      <td>2.05817</td>\n",
       "      <td>4.36757</td>\n",
       "    </tr>\n",
       "    <tr>\n",
       "      <th>O60443</th>\n",
       "      <td>0.336366</td>\n",
       "      <td>3.58654</td>\n",
       "    </tr>\n",
       "    <tr>\n",
       "      <th>P15822</th>\n",
       "      <td>7.26158</td>\n",
       "      <td>4.79337</td>\n",
       "    </tr>\n",
       "    <tr>\n",
       "      <th>...</th>\n",
       "      <td>...</td>\n",
       "      <td>...</td>\n",
       "    </tr>\n",
       "    <tr>\n",
       "      <th>P53990</th>\n",
       "      <td>2.50345</td>\n",
       "      <td>0.302395</td>\n",
       "    </tr>\n",
       "    <tr>\n",
       "      <th>Q8TCT9</th>\n",
       "      <td>1.34655</td>\n",
       "      <td>3.56406</td>\n",
       "    </tr>\n",
       "    <tr>\n",
       "      <th>Q9UK53</th>\n",
       "      <td>0.772368</td>\n",
       "      <td>4.27396</td>\n",
       "    </tr>\n",
       "    <tr>\n",
       "      <th>Q13496</th>\n",
       "      <td>0.776974</td>\n",
       "      <td>6.20207</td>\n",
       "    </tr>\n",
       "    <tr>\n",
       "      <th>Q8WUI4</th>\n",
       "      <td>1.56878</td>\n",
       "      <td>5.29541</td>\n",
       "    </tr>\n",
       "  </tbody>\n",
       "</table>\n",
       "<p>1279 rows × 2 columns</p>\n",
       "</div>"
      ],
      "text/plain": [
       "       Mayer et al. -log10(p) Johnston et al. -log10(p)\n",
       "Q9GZR2                1.99209                 0.0596689\n",
       "Q13459               0.520259                   3.01538\n",
       "P17535                2.05817                   4.36757\n",
       "O60443               0.336366                   3.58654\n",
       "P15822                7.26158                   4.79337\n",
       "...                       ...                       ...\n",
       "P53990                2.50345                  0.302395\n",
       "Q8TCT9                1.34655                   3.56406\n",
       "Q9UK53               0.772368                   4.27396\n",
       "Q13496               0.776974                   6.20207\n",
       "Q8WUI4                1.56878                   5.29541\n",
       "\n",
       "[1279 rows x 2 columns]"
      ]
     },
     "execution_count": 34,
     "metadata": {},
     "output_type": "execute_result"
    }
   ],
   "source": [
    "df_mj_pvals_sig_in_either"
   ]
  },
  {
   "cell_type": "code",
   "execution_count": 35,
   "metadata": {},
   "outputs": [
    {
     "data": {
      "image/png": "[encoded data removed]",
      "text/plain": [
       "<Figure size 432x288 with 1 Axes>"
      ]
     },
     "metadata": {
      "needs_background": "light"
     },
     "output_type": "display_data"
    }
   ],
   "source": [
    "fig = plt.figure()\n",
    "ax = fig.add_subplot(111, aspect='equal')\n",
    "sns.scatterplot(data=df_mj_pvals_sig_in_either, x='Johnston et al. -log10(p)', y='Mayer et al. -log10(p)', s=7)\n",
    " \n",
    "# control x and y limits\n",
    "plt.ylim(-0.1, 11.5)\n",
    "plt.xlim(-0.1, 11.5)\n",
    "plt.axhline(-log10(.05), color ='orange')\n",
    "plt.axvline(-log10(.05), color ='orange')\n",
    "ax.xaxis.set_major_locator(ticker.MultipleLocator(1))\n",
    "ax.xaxis.set_major_formatter(ticker.ScalarFormatter())\n",
    "ax.yaxis.set_major_locator(ticker.MultipleLocator(1))\n",
    "ax.yaxis.set_major_formatter(ticker.ScalarFormatter())\n",
    "\n",
    "plt.rc('axes',labelsize=16)\n",
    "#plt.savefig('testing/data/mj_sig-in-both_pvalues.png',dpi=300)"
   ]
  },
  {
   "cell_type": "code",
   "execution_count": 36,
   "metadata": {},
   "outputs": [
    {
     "data": {
      "text/plain": [
       "(-0.2728560638343489, 2.8503609010544714e-23)"
      ]
     },
     "execution_count": 36,
     "metadata": {},
     "output_type": "execute_result"
    }
   ],
   "source": [
    "stats.pearsonr(df_mj_pvals_sig_in_either['Johnston et al. -log10(p)'], df_mj_pvals_sig_in_either['Mayer et al. -log10(p)'])"
   ]
  }
 ],
 "metadata": {
  "kernelspec": {
   "display_name": "Python 3",
   "language": "python",
   "name": "python3"
  },
  "language_info": {
   "codemirror_mode": {
    "name": "ipython",
    "version": 3
   },
   "file_extension": ".py",
   "mimetype": "text/x-python",
   "name": "python",
   "nbconvert_exporter": "python",
   "pygments_lexer": "ipython3",
   "version": "3.8.3"
  }
 },
 "nbformat": 4,
 "nbformat_minor": 4
}
