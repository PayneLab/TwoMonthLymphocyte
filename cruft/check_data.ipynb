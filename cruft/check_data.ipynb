{
 "cells": [
  {
   "cell_type": "code",
   "execution_count": 1,
   "metadata": {
    "scrolled": true
   },
   "outputs": [],
   "source": [
    "import pandas as pd\n",
    "import requests\n",
    "import os.path\n",
    "import os\n",
    "from os import path\n",
    "import matplotlib.pyplot as plt\n",
    "from matplotlib_venn import venn2\n",
    "from matplotlib_venn import venn3"
   ]
  },
  {
   "cell_type": "code",
   "execution_count": 2,
   "metadata": {},
   "outputs": [],
   "source": [
    "johnston_file = \"data/134638_0_supp_38937_p0y7zb.xlsx\"\n",
    "mayer_file = \"data/133399_0_supp_15943_4ybsvb.xlsx\""
   ]
  },
  {
   "cell_type": "code",
   "execution_count": 3,
   "metadata": {},
   "outputs": [
    {
     "ename": "NameError",
     "evalue": "name 'df' is not defined",
     "output_type": "error",
     "traceback": [
      "\u001b[1;31m---------------------------------------------------------------------------\u001b[0m",
      "\u001b[1;31mNameError\u001b[0m                                 Traceback (most recent call last)",
      "\u001b[1;32m<ipython-input-3-8307ed1c297a>\u001b[0m in \u001b[0;36m<module>\u001b[1;34m\u001b[0m\n\u001b[0;32m      1\u001b[0m \u001b[0mj_sheet_name\u001b[0m \u001b[1;33m=\u001b[0m \u001b[1;34m\"CLL proteome\"\u001b[0m\u001b[1;33m\u001b[0m\u001b[1;33m\u001b[0m\u001b[0m\n\u001b[0;32m      2\u001b[0m \u001b[0mj_df\u001b[0m \u001b[1;33m=\u001b[0m \u001b[0mpd\u001b[0m\u001b[1;33m.\u001b[0m\u001b[0mread_excel\u001b[0m\u001b[1;33m(\u001b[0m\u001b[0mjohnston_file\u001b[0m\u001b[1;33m,\u001b[0m \u001b[0msheet_name\u001b[0m \u001b[1;33m=\u001b[0m \u001b[0mj_sheet_name\u001b[0m\u001b[1;33m)\u001b[0m\u001b[1;33m\u001b[0m\u001b[1;33m\u001b[0m\u001b[0m\n\u001b[1;32m----> 3\u001b[1;33m \u001b[0mj_df\u001b[0m \u001b[1;33m=\u001b[0m \u001b[0mdf\u001b[0m\u001b[1;33m.\u001b[0m\u001b[0mdrop_duplicates\u001b[0m\u001b[1;33m(\u001b[0m\u001b[1;33m)\u001b[0m\u001b[1;33m\u001b[0m\u001b[1;33m\u001b[0m\u001b[0m\n\u001b[0m\u001b[0;32m      4\u001b[0m \u001b[0mprint\u001b[0m\u001b[1;33m(\u001b[0m\u001b[0mj_df\u001b[0m\u001b[1;33m)\u001b[0m\u001b[1;33m\u001b[0m\u001b[1;33m\u001b[0m\u001b[0m\n",
      "\u001b[1;31mNameError\u001b[0m: name 'df' is not defined"
     ]
    }
   ],
   "source": [
    "j_sheet_name = \"CLL proteome\"\n",
    "j_df = pd.read_excel(johnston_file, sheet_name = j_sheet_name)\n",
    "j_df = df.drop_duplicates()\n",
    "print(j_df)"
   ]
  },
  {
   "cell_type": "code",
   "execution_count": 3,
   "metadata": {},
   "outputs": [
    {
     "name": "stdout",
     "output_type": "stream",
     "text": [
      "      Unnamed: 0 Protein\n",
      "0              0  Q07065\n",
      "1              1  Q9NQY0\n",
      "2              2  P01833\n",
      "3              3  Q6K0P9\n",
      "4              4  O94921\n",
      "...          ...     ...\n",
      "1133        1133  Q16799\n",
      "1134        1134  A2RUS2\n",
      "1135        1135  Q12797\n",
      "1136        1136  Q6ZRY4\n",
      "1137        1137  O60229\n",
      "\n",
      "[1138 rows x 2 columns]\n"
     ]
    }
   ],
   "source": [
    "johnston_url_file = r'C:/Users/carol/CLL/j_diff.csv'\n",
    "orig_df = pd.read_csv(johnston_url_file)\n",
    "print(orig_df)"
   ]
  },
  {
   "cell_type": "code",
   "execution_count": 4,
   "metadata": {},
   "outputs": [
    {
     "data": {
      "image/png": "[encoded data removed]",
      "text/plain": [
       "<Figure size 432x288 with 1 Axes>"
      ]
     },
     "metadata": {},
     "output_type": "display_data"
    }
   ],
   "source": [
    "venn2(subsets = (set(df[\"diff\"]), set(orig_df[\"Protein\"])), set_labels = ('paper', 'original'))\n",
    "plt.show()"
   ]
  },
  {
   "cell_type": "code",
   "execution_count": 5,
   "metadata": {},
   "outputs": [
    {
     "name": "stdout",
     "output_type": "stream",
     "text": [
      "        All    diff\n",
      "0    B7ZAP0  Q9ULM3\n",
      "1    B9A064  Q8NEF9\n",
      "2    C9JLW8  Q8TER5\n",
      "3    O00170  Q8WTW4\n",
      "4    O00193  Q8WV92\n",
      "..      ...     ...\n",
      "954  P01763     NaN\n",
      "955  O75197     NaN\n",
      "956  O75581     NaN\n",
      "957  Q52LD8     NaN\n",
      "958  Q6ISS4     NaN\n",
      "\n",
      "[959 rows x 2 columns]\n"
     ]
    }
   ],
   "source": [
    "mayer_url_file = r'C:/Users/carol/CLL/m_all.csv'\n",
    "m_df = pd.read_csv(mayer_url_file)\n",
    "m_df = m_df.drop_duplicates()\n",
    "print(m_df)"
   ]
  },
  {
   "cell_type": "code",
   "execution_count": 6,
   "metadata": {},
   "outputs": [
    {
     "name": "stdout",
     "output_type": "stream",
     "text": [
      "     Unnamed: 0 Protein\n",
      "0             0  Q9ULM3\n",
      "1             1  Q8NEF9\n",
      "2             2  Q8TER5\n",
      "3             3  Q8WTW4\n",
      "4             4  Q8WV92\n",
      "..          ...     ...\n",
      "790         861  Q9Y613\n",
      "791         862  Q9Y6A4\n",
      "792         863  Q9Y6K1\n",
      "793         864  Q9Y6M5\n",
      "794         865  Q9Y6Q9\n",
      "\n",
      "[795 rows x 2 columns]\n"
     ]
    }
   ],
   "source": [
    "mayer_url_file = r'C:/Users/carol/CLL/m_diff.csv'\n",
    "m_orig_df = pd.read_csv(mayer_url_file)\n",
    "print(m_orig_df)"
   ]
  },
  {
   "cell_type": "code",
   "execution_count": 12,
   "metadata": {},
   "outputs": [
    {
     "data": {
      "image/png": "[encoded data removed]",
      "text/plain": [
       "<Figure size 432x288 with 1 Axes>"
      ]
     },
     "metadata": {},
     "output_type": "display_data"
    }
   ],
   "source": [
    "venn2(subsets = (set(m_df[\"diff\"]), set(m_orig_df[\"Protein\"])), set_labels = ('paper', 'original'))\n",
    "plt.show()"
   ]
  },
  {
   "cell_type": "code",
   "execution_count": 8,
   "metadata": {},
   "outputs": [
    {
     "name": "stdout",
     "output_type": "stream",
     "text": [
      "                         All\n",
      "0      sp|P05204|HMGN2_HUMAN\n",
      "1       sp|P14618|KPYM_HUMAN\n",
      "2        sp|P04406|G3P_HUMAN\n",
      "3       sp|P27797|CALR_HUMAN\n",
      "4      sp|P05114|HMGN1_HUMAN\n",
      "..                       ...\n",
      "359     sp|P16152|CBR1_HUMAN\n",
      "360  sp|Q9H098-2|F107B_HUMAN\n",
      "361    sp|O60664|PLIN3_HUMAN\n",
      "362   tr|Q5T9B7|Q5T9B7_HUMAN\n",
      "363   tr|V9HWH6|V9HWH6_HUMAN\n",
      "\n",
      "[347 rows x 1 columns]\n"
     ]
    }
   ],
   "source": [
    "thurgood_url_file = r'C:/Users/carol/CLL/t_all.csv'\n",
    "t_df = pd.read_csv(thurgood_url_file)\n",
    "t_df = t_df.drop_duplicates()\n",
    "print(t_df)"
   ]
  },
  {
   "cell_type": "code",
   "execution_count": 9,
   "metadata": {},
   "outputs": [
    {
     "name": "stdout",
     "output_type": "stream",
     "text": [
      "        All\n",
      "0    P05204\n",
      "1    P14618\n",
      "2    P04406\n",
      "3    P27797\n",
      "4    P05114\n",
      "..      ...\n",
      "342  P16152\n",
      "343  Q9H098\n",
      "344  O60664\n",
      "345  Q5T9B7\n",
      "346  V9HWH6\n",
      "\n",
      "[347 rows x 1 columns]\n"
     ]
    }
   ],
   "source": [
    "protein = t_df[\"All\"]\n",
    "column_names = [\"protein\"]\n",
    "names = []\n",
    "for name in protein:\n",
    "    gene_name = name[3: 9]\n",
    "    names.append(gene_name)\n",
    "thurgood_gene_name_df = pd.DataFrame(names, columns = ['All'])\n",
    "print(thurgood_gene_name_df)"
   ]
  },
  {
   "cell_type": "code",
   "execution_count": 10,
   "metadata": {},
   "outputs": [
    {
     "name": "stdout",
     "output_type": "stream",
     "text": [
      "        All\n",
      "0    P05204\n",
      "1    P14618\n",
      "2    P04406\n",
      "3    P27797\n",
      "4    P05114\n",
      "..      ...\n",
      "342  P16152\n",
      "343  Q9H098\n",
      "344  O60664\n",
      "345  Q5T9B7\n",
      "346  V9HWH6\n",
      "\n",
      "[340 rows x 1 columns]\n"
     ]
    }
   ],
   "source": [
    "thurgood_gene_name_df = thurgood_gene_name_df.drop_duplicates()\n",
    "print(thurgood_gene_name_df)"
   ]
  },
  {
   "cell_type": "code",
   "execution_count": 11,
   "metadata": {},
   "outputs": [
    {
     "data": {
      "image/png": "[encoded data removed]",
      "text/plain": [
       "<Figure size 432x288 with 1 Axes>"
      ]
     },
     "metadata": {},
     "output_type": "display_data"
    }
   ],
   "source": [
    "venn3(subsets = (set(thurgood_gene_name_df[\"All\"]), set(m_df[\"All\"]), set(df[\"All\"])), set_labels = ('Thurgood', 'Mayer', 'Johnston'))\n",
    "plt.show()"
   ]
  }
 ],
 "metadata": {
  "kernelspec": {
   "display_name": "Python 3",
   "language": "python",
   "name": "python3"
  },
  "language_info": {
   "codemirror_mode": {
    "name": "ipython",
    "version": 3
   },
   "file_extension": ".py",
   "mimetype": "text/x-python",
   "name": "python",
   "nbconvert_exporter": "python",
   "pygments_lexer": "ipython3",
   "version": "3.8.3"
  }
 },
 "nbformat": 4,
 "nbformat_minor": 4
}
